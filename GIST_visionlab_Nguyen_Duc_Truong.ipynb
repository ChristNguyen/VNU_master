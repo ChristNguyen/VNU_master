{
  "nbformat": 4,
  "nbformat_minor": 0,
  "metadata": {
    "colab": {
      "name": "GIST-visionlab-Nguyen Duc Truong.ipynb",
      "provenance": [],
      "collapsed_sections": [],
      "include_colab_link": true
    },
    "kernelspec": {
      "name": "python3",
      "display_name": "Python 3"
    },
    "language_info": {
      "name": "python"
    }
  },
  "cells": [
    {
      "cell_type": "markdown",
      "metadata": {
        "id": "view-in-github",
        "colab_type": "text"
      },
      "source": [
        "<a href=\"https://colab.research.google.com/github/ChristNguyen/VNU_master/blob/main/GIST_visionlab_Nguyen_Duc_Truong.ipynb\" target=\"_parent\"><img src=\"https://colab.research.google.com/assets/colab-badge.svg\" alt=\"Open In Colab\"/></a>"
      ]
    },
    {
      "cell_type": "code",
      "metadata": {
        "id": "f3e9DhWEyuPq",
        "colab": {
          "base_uri": "https://localhost:8080/"
        },
        "outputId": "d3b16700-adf7-4df3-9ce9-3fb54a38c79c"
      },
      "source": [
        "from google.colab import drive\n",
        "drive.mount(\"/content/drive\")"
      ],
      "execution_count": null,
      "outputs": [
        {
          "output_type": "stream",
          "text": [
            "Mounted at /content/drive\n"
          ],
          "name": "stdout"
        }
      ]
    },
    {
      "cell_type": "code",
      "metadata": {
        "id": "gksDKr-wfSRQ"
      },
      "source": [
        "from nltk.corpus import stopwords"
      ],
      "execution_count": null,
      "outputs": []
    },
    {
      "cell_type": "code",
      "metadata": {
        "id": "EuQ4bg0pfwEw"
      },
      "source": [
        "stop_words= stopwords.words('english')"
      ],
      "execution_count": null,
      "outputs": []
    },
    {
      "cell_type": "code",
      "metadata": {
        "colab": {
          "base_uri": "https://localhost:8080/"
        },
        "id": "aD-iizfd-Nq7",
        "outputId": "90a96cb8-7aa0-468a-abee-160d3126a387"
      },
      "source": [
        "# import necessary library\n",
        "from collections import defaultdict\n",
        "import gensim\n",
        "from gensim.parsing.preprocessing import strip_non_alphanum, strip_multiple_whitespaces, preprocess_string, split_alphanum, strip_short, strip_numeric\n",
        "import time\n",
        "from pathlib import Path\n",
        "import pandas as pd\n",
        "from keras.models import *\n",
        "from keras.layers import *\n",
        "from keras.callbacks import *\n",
        "import matplotlib.pyplot as plt\n",
        "from sklearn.preprocessing import normalize\n",
        "import re\n",
        "import nltk\n",
        "nltk.download('punkt')\n",
        "nltk.download('stopwords')\n",
        "stoplist = stopwords.words('english')\n",
        "from nltk.corpus import stopwords\n",
        "from __future__ import division, print_function\n",
        "from gensim import models\n",
        "\n",
        "from keras.preprocessing.sequence import pad_sequences\n",
        "from sklearn.model_selection import train_test_split\n",
        "import numpy as np\n",
        "import os\n",
        "import collections\n",
        "import string\n",
        "from random import shuffle\n",
        "import numpy as np\n",
        "import matplotlib.pyplot as plt\n",
        "from tensorflow.python.keras import models, layers, optimizers\n",
        "import tensorflow\n",
        "from tensorflow.keras.preprocessing.text import Tokenizer, text_to_word_sequence\n",
        "from tensorflow.keras.preprocessing.sequence import pad_sequences\n",
        "import bz2\n",
        "from sklearn.metrics import f1_score, roc_auc_score, accuracy_score\n",
        "\n",
        "plt.style.use('ggplot')\n"
      ],
      "execution_count": null,
      "outputs": [
        {
          "output_type": "stream",
          "text": [
            "[nltk_data] Downloading package punkt to /root/nltk_data...\n",
            "[nltk_data]   Unzipping tokenizers/punkt.zip.\n",
            "[nltk_data] Downloading package stopwords to /root/nltk_data...\n",
            "[nltk_data]   Unzipping corpora/stopwords.zip.\n"
          ],
          "name": "stdout"
        }
      ]
    },
    {
      "cell_type": "code",
      "metadata": {
        "id": "XhlPpkaj19Tw"
      },
      "source": [
        "!cd /content/drive/MyDrive/"
      ],
      "execution_count": null,
      "outputs": []
    },
    {
      "cell_type": "code",
      "metadata": {
        "id": "xAsY6XhF2l7h"
      },
      "source": [
        "# unzip dataset\n",
        "import tarfile\n",
        "tf = tarfile.open(\"/content/drive/MyDrive/data.tar.gz\")\n",
        "tf.extractall()"
      ],
      "execution_count": null,
      "outputs": []
    },
    {
      "cell_type": "code",
      "metadata": {
        "id": "PSSHbfYI4UfY"
      },
      "source": [
        "/content/data/test"
      ],
      "execution_count": null,
      "outputs": []
    },
    {
      "cell_type": "code",
      "metadata": {
        "id": "xkp5SEgIHsuq"
      },
      "source": [
        "# Read all train and test folder data\n",
        "results = defaultdict(list)\n",
        "for file in Path('/content/data/train/negative').iterdir():\n",
        "    with open(file, \"r\") as file_open:\n",
        "        results[\"file_name\"].append(file.name)\n",
        "        results[\"text\"].append(file_open.read())\n",
        "df1 = pd.DataFrame(results)\n",
        "results = defaultdict(list)\n",
        "for file in Path('/content/data/train/positive').iterdir():\n",
        "    with open(file, \"r\") as file_open:\n",
        "        results[\"file_name\"].append(file.name)\n",
        "        results[\"text\"].append(file_open.read())\n",
        "df2 = pd.DataFrame(results)\n",
        "\n",
        "results = defaultdict(list)\n",
        "for file in Path('/content/data/test/negative').iterdir():\n",
        "    with open(file, \"r\") as file_open:\n",
        "        results[\"file_name\"].append(file.name)\n",
        "        results[\"text\"].append(file_open.read())\n",
        "df3 = pd.DataFrame(results)\n",
        "results = defaultdict(list)\n",
        "for file in Path('/content/data/test/positive').iterdir():\n",
        "    with open(file, \"r\") as file_open:\n",
        "        results[\"file_name\"].append(file.name)\n",
        "        results[\"text\"].append(file_open.read())\n",
        "df4 = pd.DataFrame(results)"
      ],
      "execution_count": null,
      "outputs": []
    },
    {
      "cell_type": "code",
      "metadata": {
        "id": "6bpaY00hH1dV"
      },
      "source": [
        "df1['label']= 0\n",
        "df1['phase']= 'train'\n",
        "df1= df1[['text', 'label', 'phase']]\n",
        "df2['label']= 1\n",
        "df2['phase']= 'train'\n",
        "df2= df2[['text', 'label', 'phase']]\n",
        "df3['label']= 0\n",
        "df3['phase']= 'test'\n",
        "df3= df3[['text', 'label', 'phase']]\n",
        "df4['label']= 1\n",
        "df4['phase']= 'test'\n",
        "df4= df4[['text', 'label', 'phase']]"
      ],
      "execution_count": null,
      "outputs": []
    },
    {
      "cell_type": "code",
      "metadata": {
        "id": "U_biCyeqIqTn"
      },
      "source": [
        "# combine all data to preprocess\n",
        "data = pd.concat([df1, df2, df3,df4])"
      ],
      "execution_count": null,
      "outputs": []
    },
    {
      "cell_type": "code",
      "metadata": {
        "id": "8cpMcE1WKgrq"
      },
      "source": [
        "pos = []\n",
        "neg = []\n",
        "for l in data.label:\n",
        "    if l == 0:\n",
        "        pos.append(0)\n",
        "        neg.append(1)\n",
        "    elif l == 1:\n",
        "        pos.append(1)\n",
        "        neg.append(0)"
      ],
      "execution_count": null,
      "outputs": []
    },
    {
      "cell_type": "code",
      "metadata": {
        "id": "Q9URvRpMKtCl"
      },
      "source": [
        "data.columns = ['Text', 'Label', 'phase']"
      ],
      "execution_count": null,
      "outputs": []
    },
    {
      "cell_type": "code",
      "metadata": {
        "id": "Oheh8OvLKwmd"
      },
      "source": [
        "data['Pos']= pos\n",
        "data['Neg']= neg"
      ],
      "execution_count": null,
      "outputs": []
    },
    {
      "cell_type": "code",
      "metadata": {
        "colab": {
          "base_uri": "https://localhost:8080/",
          "height": 464
        },
        "id": "PkVXTG5ieeAQ",
        "outputId": "14447bec-7f31-4485-9c15-8eba8219a06c"
      },
      "source": [
        "data"
      ],
      "execution_count": null,
      "outputs": [
        {
          "output_type": "execute_result",
          "data": {
            "text/html": [
              "<div>\n",
              "<style scoped>\n",
              "    .dataframe tbody tr th:only-of-type {\n",
              "        vertical-align: middle;\n",
              "    }\n",
              "\n",
              "    .dataframe tbody tr th {\n",
              "        vertical-align: top;\n",
              "    }\n",
              "\n",
              "    .dataframe thead th {\n",
              "        text-align: right;\n",
              "    }\n",
              "</style>\n",
              "<table border=\"1\" class=\"dataframe\">\n",
              "  <thead>\n",
              "    <tr style=\"text-align: right;\">\n",
              "      <th></th>\n",
              "      <th>Text</th>\n",
              "      <th>Label</th>\n",
              "      <th>phase</th>\n",
              "      <th>Pos</th>\n",
              "      <th>Neg</th>\n",
              "    </tr>\n",
              "  </thead>\n",
              "  <tbody>\n",
              "    <tr>\n",
              "      <th>0</th>\n",
              "      <td>do n't bother with this one life is too short ...</td>\n",
              "      <td>0</td>\n",
              "      <td>train</td>\n",
              "      <td>0</td>\n",
              "      <td>1</td>\n",
              "    </tr>\n",
              "    <tr>\n",
              "      <th>1</th>\n",
              "      <td>this did n't make me happy - its hard to be em...</td>\n",
              "      <td>0</td>\n",
              "      <td>train</td>\n",
              "      <td>0</td>\n",
              "      <td>1</td>\n",
              "    </tr>\n",
              "    <tr>\n",
              "      <th>2</th>\n",
              "      <td>fraud , plain and simple dr. dean ornish is a ...</td>\n",
              "      <td>0</td>\n",
              "      <td>train</td>\n",
              "      <td>0</td>\n",
              "      <td>1</td>\n",
              "    </tr>\n",
              "    <tr>\n",
              "      <th>3</th>\n",
              "      <td>people will believe anything it seems okay , m...</td>\n",
              "      <td>0</td>\n",
              "      <td>train</td>\n",
              "      <td>0</td>\n",
              "      <td>1</td>\n",
              "    </tr>\n",
              "    <tr>\n",
              "      <th>4</th>\n",
              "      <td>these reviewers blindly regirgitate antiscienc...</td>\n",
              "      <td>0</td>\n",
              "      <td>train</td>\n",
              "      <td>0</td>\n",
              "      <td>1</td>\n",
              "    </tr>\n",
              "    <tr>\n",
              "      <th>...</th>\n",
              "      <td>...</td>\n",
              "      <td>...</td>\n",
              "      <td>...</td>\n",
              "      <td>...</td>\n",
              "      <td>...</td>\n",
              "    </tr>\n",
              "    <tr>\n",
              "      <th>995</th>\n",
              "      <td>excellent book for asd kids a wonderful book f...</td>\n",
              "      <td>1</td>\n",
              "      <td>test</td>\n",
              "      <td>1</td>\n",
              "      <td>0</td>\n",
              "    </tr>\n",
              "    <tr>\n",
              "      <th>996</th>\n",
              "      <td>a great cookbook -- - even if you do n't cook ...</td>\n",
              "      <td>1</td>\n",
              "      <td>test</td>\n",
              "      <td>1</td>\n",
              "      <td>0</td>\n",
              "    </tr>\n",
              "    <tr>\n",
              "      <th>997</th>\n",
              "      <td>nothing new , but a good refresher ziegler cer...</td>\n",
              "      <td>1</td>\n",
              "      <td>test</td>\n",
              "      <td>1</td>\n",
              "      <td>0</td>\n",
              "    </tr>\n",
              "    <tr>\n",
              "      <th>998</th>\n",
              "      <td>fun books junie b. jones books are a real blas...</td>\n",
              "      <td>1</td>\n",
              "      <td>test</td>\n",
              "      <td>1</td>\n",
              "      <td>0</td>\n",
              "    </tr>\n",
              "    <tr>\n",
              "      <th>999</th>\n",
              "      <td>a very readable introduction i picked up this ...</td>\n",
              "      <td>1</td>\n",
              "      <td>test</td>\n",
              "      <td>1</td>\n",
              "      <td>0</td>\n",
              "    </tr>\n",
              "  </tbody>\n",
              "</table>\n",
              "<p>4000 rows × 5 columns</p>\n",
              "</div>"
            ],
            "text/plain": [
              "                                                  Text  Label  phase  Pos  Neg\n",
              "0    do n't bother with this one life is too short ...      0  train    0    1\n",
              "1    this did n't make me happy - its hard to be em...      0  train    0    1\n",
              "2    fraud , plain and simple dr. dean ornish is a ...      0  train    0    1\n",
              "3    people will believe anything it seems okay , m...      0  train    0    1\n",
              "4    these reviewers blindly regirgitate antiscienc...      0  train    0    1\n",
              "..                                                 ...    ...    ...  ...  ...\n",
              "995  excellent book for asd kids a wonderful book f...      1   test    1    0\n",
              "996  a great cookbook -- - even if you do n't cook ...      1   test    1    0\n",
              "997  nothing new , but a good refresher ziegler cer...      1   test    1    0\n",
              "998  fun books junie b. jones books are a real blas...      1   test    1    0\n",
              "999  a very readable introduction i picked up this ...      1   test    1    0\n",
              "\n",
              "[4000 rows x 5 columns]"
            ]
          },
          "metadata": {
            "tags": []
          },
          "execution_count": 211
        }
      ]
    },
    {
      "cell_type": "markdown",
      "metadata": {
        "id": "h7gwjZ2ui2SB"
      },
      "source": [
        "#Preprocessing "
      ]
    },
    {
      "cell_type": "code",
      "metadata": {
        "id": "IYSmcG1Lggnw"
      },
      "source": [
        "\n",
        "\n",
        "# Convert uppercase to lowercase\n",
        "def lower_case(docs):\n",
        "  return [doc.lower() for doc in docs]\n",
        "\n",
        "# Remove special characters\n",
        "def remove_punc(docs):\n",
        "  return [strip_non_alphanum(doc).strip() for doc in docs]\n",
        "\n",
        "# Separate consecutive numbers and letters\n",
        "def separate_num(docs):\n",
        "  return [split_alphanum(doc) for doc in docs]\n",
        "\n",
        "# Remove numbers from the text because they don't make much sense in classifying words\n",
        "def remove_number(docs):\n",
        "  return [strip_numeric(doc) for doc in docs]\n",
        "\n",
        "# Replaces multiple spaces with 1 space\n",
        "def replace_multiple_whitespaces(docs):\n",
        "  return [strip_multiple_whitespaces(doc) for doc in docs]\n",
        "#remove short words\n",
        "\n",
        "# Remove stop words\n",
        "def remove_stopwords(docs):\n",
        "    return [[word for word in doc.split() if word not in stop_words] for doc in docs]\n",
        "\n",
        "docs = lower_case(data['Text'])\n",
        "docs = remove_punc(docs)\n",
        "docs = separate_num(docs)\n",
        "docs = remove_number(docs)\n",
        "docs = replace_multiple_whitespaces(docs)\n",
        "docs = remove_stopwords(docs)\n",
        "all_words =  [' '.join(sen) for sen in docs]\n",
        "data['Text_Final'] = all_words\n",
        "data['Text_Final']= data['Text_Final'].apply(lambda x: ' '.join([w for w in x.split() if len(w)>3])) "
      ],
      "execution_count": null,
      "outputs": []
    },
    {
      "cell_type": "code",
      "metadata": {
        "id": "_TqUGUPtRoVo"
      },
      "source": [
        "data['tokens'] = data['Text_Final'].apply(lambda x: x.split())\n",
        "token_list = data['tokens'].tolist()\n",
        "token_list=  (sum(token_list, []))"
      ],
      "execution_count": null,
      "outputs": []
    },
    {
      "cell_type": "code",
      "metadata": {
        "colab": {
          "base_uri": "https://localhost:8080/"
        },
        "id": "B7XGKF6TgH6T",
        "outputId": "e49982e8-16e4-4449-b330-5fa578f68c97"
      },
      "source": [
        "data['Word_Length']=data['Text_Final'].apply(lambda x: len(x.split()))\n",
        "print(data[data['phase']== 'train']['Word_Length'].mean())\n",
        "print(data[data['phase']== 'train']['Word_Length'].max())\n",
        "data_list = data['tokens'].tolist()\n",
        "data_list=  (sum(data_list, []))\n",
        "data_set = set(data_list)\n",
        "number_of_unique_values1 = len(data_set)\n",
        "print(number_of_unique_values1)"
      ],
      "execution_count": null,
      "outputs": [
        {
          "output_type": "stream",
          "text": [
            "77.2065\n",
            "1640\n",
            "29528\n"
          ],
          "name": "stdout"
        }
      ]
    },
    {
      "cell_type": "code",
      "metadata": {
        "id": "aHeIPfrlR4tw"
      },
      "source": [
        "# Take only top 10000 frequent words\n",
        "values, counts = np.unique(col_one_list, return_counts=True)\n",
        "frequent_words = pd.DataFrame(\n",
        "    {'values': values,\n",
        "     'counts': counts\n",
        "    })\n",
        "frequent_words = frequent_words.sort_values('counts', ascending= False)[:10000]\n",
        "vocabulary = frequent_words['values'].tolist()\n"
      ],
      "execution_count": null,
      "outputs": []
    },
    {
      "cell_type": "code",
      "metadata": {
        "id": "kN7NW82KTahx"
      },
      "source": [
        "def word_vocab(docs):\n",
        "    return [[word for word in doc if word in vocabulary] for doc in docs]\n",
        "docs = word_vocab(docs)\n",
        "\n",
        "all_words =  [' '.join(sen) for sen in docs]\n",
        "data['Text_Final'] = all_words"
      ],
      "execution_count": null,
      "outputs": []
    },
    {
      "cell_type": "markdown",
      "metadata": {
        "id": "FvBaVHUZIVcb"
      },
      "source": [
        "# **Data statistic**"
      ]
    },
    {
      "cell_type": "code",
      "metadata": {
        "id": "QhfzOtQ5Vekp"
      },
      "source": [
        "MAX_LENGTH = 200\n",
        "max_fatures = 10000\n",
        "tokenizer = Tokenizer(num_words=max_fatures, split=' ')\n",
        "tokenizer.fit_on_texts(data['Text_Final'].values)\n",
        "X = tokenizer.texts_to_sequences(data['Text_Final'].values)\n",
        "X = pad_sequences(X,maxlen=200)\n",
        "Y= data['Label'].values\n",
        "train_texts, val_texts, train_labels, val_labels = train_test_split(\n",
        "    X, Y, random_state=57643892, test_size=0.2)\n"
      ],
      "execution_count": null,
      "outputs": []
    },
    {
      "cell_type": "code",
      "metadata": {
        "id": "Ot9QcgRcxYID"
      },
      "source": [
        "train_texts = data['Text_Final'].values\n",
        "train_labels= data['Label'].values\n",
        "train_texts, val_texts, train_labels, val_labels = train_test_split(\n",
        "    train_texts, train_labels, random_state=57643892, test_size=0.2)"
      ],
      "execution_count": null,
      "outputs": []
    },
    {
      "cell_type": "code",
      "metadata": {
        "colab": {
          "base_uri": "https://localhost:8080/"
        },
        "id": "BYq7saXUxiv8",
        "outputId": "a181da4f-0338-4d30-80d9-0aaea06020df"
      },
      "source": [
        "train_texts.shape"
      ],
      "execution_count": null,
      "outputs": [
        {
          "output_type": "execute_result",
          "data": {
            "text/plain": [
              "(3200, 200)"
            ]
          },
          "metadata": {
            "tags": []
          },
          "execution_count": 174
        }
      ]
    },
    {
      "cell_type": "code",
      "metadata": {
        "colab": {
          "base_uri": "https://localhost:8080/"
        },
        "id": "LRokshtbDo2H",
        "outputId": "d5d50e27-615e-4767-9566-ffe493d12ab2"
      },
      "source": [
        "dataset = pd.DataFrame({'train_labels': list(train_labels), 'train_texts': list(train_texts)}, columns=['train_labels', 'train_texts'])\n",
        "print(dataset['train_labels'].value_counts())\n",
        "dataset['tokens'] = dataset['train_texts'].apply(lambda x: x.split())\n",
        "col_one_list = dataset['tokens'].tolist()\n",
        "col_one_list=  (sum(col_one_list, []))\n",
        "a_set = set(col_one_list)\n",
        "number_of_unique_values = len(a_set)\n",
        "print(number_of_unique_values)\n",
        "dataset['Word_Length']=dataset['train_texts'].apply(lambda x: len(x.split()))\n",
        "print(dataset['Word_Length'].mean())\n",
        "print(dataset['Word_Length'].max())"
      ],
      "execution_count": null,
      "outputs": [
        {
          "output_type": "stream",
          "text": [
            "0    1605\n",
            "1    1595\n",
            "Name: train_labels, dtype: int64\n",
            "26271\n",
            "76.13125\n",
            "1640\n"
          ],
          "name": "stdout"
        }
      ]
    },
    {
      "cell_type": "code",
      "metadata": {
        "colab": {
          "base_uri": "https://localhost:8080/",
          "height": 371
        },
        "id": "YMVPhsLp8kpI",
        "outputId": "db182833-80fb-4041-903e-4fe171edcdf8"
      },
      "source": [
        "import seaborn as sns\n",
        "sns.distplot(dataset['Word_Length'])"
      ],
      "execution_count": null,
      "outputs": [
        {
          "output_type": "stream",
          "text": [
            "/usr/local/lib/python3.7/dist-packages/seaborn/distributions.py:2557: FutureWarning: `distplot` is a deprecated function and will be removed in a future version. Please adapt your code to use either `displot` (a figure-level function with similar flexibility) or `histplot` (an axes-level function for histograms).\n",
            "  warnings.warn(msg, FutureWarning)\n"
          ],
          "name": "stderr"
        },
        {
          "output_type": "execute_result",
          "data": {
            "text/plain": [
              "<matplotlib.axes._subplots.AxesSubplot at 0x7efbce34ecd0>"
            ]
          },
          "metadata": {
            "tags": []
          },
          "execution_count": 252
        },
        {
          "output_type": "display_data",
          "data": {
            "image/png": "[encoded data removed]",
            "text/plain": [
              "<Figure size 432x288 with 1 Axes>"
            ]
          },
          "metadata": {
            "tags": []
          }
        }
      ]
    },
    {
      "cell_type": "markdown",
      "metadata": {
        "id": "HOZOb3jrIdJG"
      },
      "source": [
        "# **Preparing embedding**"
      ]
    },
    {
      "cell_type": "code",
      "metadata": {
        "id": "Z68uk6G7W6Sh",
        "colab": {
          "base_uri": "https://localhost:8080/",
          "height": 461
        },
        "outputId": "5f202a90-8e53-4696-8f38-345b0f556b03"
      },
      "source": [
        "MAX_FEATURES = 10000\n",
        "tokenizer = Tokenizer(num_words=MAX_FEATURES)\n",
        "tokenizer.fit_on_texts(train_texts)\n",
        "train_texts = tokenizer.texts_to_sequences(train_texts)\n",
        "#val_texts = tokenizer.texts_to_sequences(val_texts)"
      ],
      "execution_count": null,
      "outputs": [
        {
          "output_type": "error",
          "ename": "AttributeError",
          "evalue": "ignored",
          "traceback": [
            "\u001b[0;31m---------------------------------------------------------------------------\u001b[0m",
            "\u001b[0;31mAttributeError\u001b[0m                            Traceback (most recent call last)",
            "\u001b[0;32m<ipython-input-170-c70aa7a77a52>\u001b[0m in \u001b[0;36m<module>\u001b[0;34m()\u001b[0m\n\u001b[1;32m      1\u001b[0m \u001b[0mMAX_FEATURES\u001b[0m \u001b[0;34m=\u001b[0m \u001b[0;36m10000\u001b[0m\u001b[0;34m\u001b[0m\u001b[0;34m\u001b[0m\u001b[0m\n\u001b[1;32m      2\u001b[0m \u001b[0mtokenizer\u001b[0m \u001b[0;34m=\u001b[0m \u001b[0mTokenizer\u001b[0m\u001b[0;34m(\u001b[0m\u001b[0mnum_words\u001b[0m\u001b[0;34m=\u001b[0m\u001b[0mMAX_FEATURES\u001b[0m\u001b[0;34m)\u001b[0m\u001b[0;34m\u001b[0m\u001b[0;34m\u001b[0m\u001b[0m\n\u001b[0;32m----> 3\u001b[0;31m \u001b[0mtokenizer\u001b[0m\u001b[0;34m.\u001b[0m\u001b[0mfit_on_texts\u001b[0m\u001b[0;34m(\u001b[0m\u001b[0mtrain_texts\u001b[0m\u001b[0;34m)\u001b[0m\u001b[0;34m\u001b[0m\u001b[0;34m\u001b[0m\u001b[0m\n\u001b[0m\u001b[1;32m      4\u001b[0m \u001b[0mtrain_texts\u001b[0m \u001b[0;34m=\u001b[0m \u001b[0mtokenizer\u001b[0m\u001b[0;34m.\u001b[0m\u001b[0mtexts_to_sequences\u001b[0m\u001b[0;34m(\u001b[0m\u001b[0mtrain_texts\u001b[0m\u001b[0;34m)\u001b[0m\u001b[0;34m\u001b[0m\u001b[0;34m\u001b[0m\u001b[0m\n\u001b[1;32m      5\u001b[0m \u001b[0;31m#val_texts = tokenizer.texts_to_sequences(val_texts)\u001b[0m\u001b[0;34m\u001b[0m\u001b[0;34m\u001b[0m\u001b[0;34m\u001b[0m\u001b[0m\n",
            "\u001b[0;32m/usr/local/lib/python3.7/dist-packages/keras_preprocessing/text.py\u001b[0m in \u001b[0;36mfit_on_texts\u001b[0;34m(self, texts)\u001b[0m\n\u001b[1;32m    223\u001b[0m                                             \u001b[0mself\u001b[0m\u001b[0;34m.\u001b[0m\u001b[0mfilters\u001b[0m\u001b[0;34m,\u001b[0m\u001b[0;34m\u001b[0m\u001b[0;34m\u001b[0m\u001b[0m\n\u001b[1;32m    224\u001b[0m                                             \u001b[0mself\u001b[0m\u001b[0;34m.\u001b[0m\u001b[0mlower\u001b[0m\u001b[0;34m,\u001b[0m\u001b[0;34m\u001b[0m\u001b[0;34m\u001b[0m\u001b[0m\n\u001b[0;32m--> 225\u001b[0;31m                                             self.split)\n\u001b[0m\u001b[1;32m    226\u001b[0m             \u001b[0;32mfor\u001b[0m \u001b[0mw\u001b[0m \u001b[0;32min\u001b[0m \u001b[0mseq\u001b[0m\u001b[0;34m:\u001b[0m\u001b[0;34m\u001b[0m\u001b[0;34m\u001b[0m\u001b[0m\n\u001b[1;32m    227\u001b[0m                 \u001b[0;32mif\u001b[0m \u001b[0mw\u001b[0m \u001b[0;32min\u001b[0m \u001b[0mself\u001b[0m\u001b[0;34m.\u001b[0m\u001b[0mword_counts\u001b[0m\u001b[0;34m:\u001b[0m\u001b[0;34m\u001b[0m\u001b[0;34m\u001b[0m\u001b[0m\n",
            "\u001b[0;32m/usr/local/lib/python3.7/dist-packages/keras_preprocessing/text.py\u001b[0m in \u001b[0;36mtext_to_word_sequence\u001b[0;34m(text, filters, lower, split)\u001b[0m\n\u001b[1;32m     41\u001b[0m     \"\"\"\n\u001b[1;32m     42\u001b[0m     \u001b[0;32mif\u001b[0m \u001b[0mlower\u001b[0m\u001b[0;34m:\u001b[0m\u001b[0;34m\u001b[0m\u001b[0;34m\u001b[0m\u001b[0m\n\u001b[0;32m---> 43\u001b[0;31m         \u001b[0mtext\u001b[0m \u001b[0;34m=\u001b[0m \u001b[0mtext\u001b[0m\u001b[0;34m.\u001b[0m\u001b[0mlower\u001b[0m\u001b[0;34m(\u001b[0m\u001b[0;34m)\u001b[0m\u001b[0;34m\u001b[0m\u001b[0;34m\u001b[0m\u001b[0m\n\u001b[0m\u001b[1;32m     44\u001b[0m \u001b[0;34m\u001b[0m\u001b[0m\n\u001b[1;32m     45\u001b[0m     \u001b[0;32mif\u001b[0m \u001b[0msys\u001b[0m\u001b[0;34m.\u001b[0m\u001b[0mversion_info\u001b[0m \u001b[0;34m<\u001b[0m \u001b[0;34m(\u001b[0m\u001b[0;36m3\u001b[0m\u001b[0;34m,\u001b[0m\u001b[0;34m)\u001b[0m\u001b[0;34m:\u001b[0m\u001b[0;34m\u001b[0m\u001b[0;34m\u001b[0m\u001b[0m\n",
            "\u001b[0;31mAttributeError\u001b[0m: 'numpy.ndarray' object has no attribute 'lower'"
          ]
        }
      ]
    },
    {
      "cell_type": "code",
      "metadata": {
        "colab": {
          "base_uri": "https://localhost:8080/"
        },
        "id": "97bZwR0quxcg",
        "outputId": "7500c2cc-bf35-42fe-8314-cc3d6da11d7c"
      },
      "source": [
        "size_of_vocabulary=len(tokenizer.word_index) + 1 #+1 for padding\n",
        "\n",
        "print(size_of_vocabulary)"
      ],
      "execution_count": null,
      "outputs": [
        {
          "output_type": "stream",
          "text": [
            "10001\n"
          ],
          "name": "stdout"
        }
      ]
    },
    {
      "cell_type": "code",
      "metadata": {
        "id": "7TWouciGXAFv"
      },
      "source": [
        "MAX_LENGTH = 200\n",
        "train_texts = pad_sequences(train_texts, maxlen=MAX_LENGTH)\n",
        "#val_texts = pad_sequences(val_texts, maxlen=MAX_LENGTH)"
      ],
      "execution_count": null,
      "outputs": []
    },
    {
      "cell_type": "code",
      "metadata": {
        "colab": {
          "base_uri": "https://localhost:8080/"
        },
        "id": "j7K-W9ger9JV",
        "outputId": "839ef515-70c3-4cd4-aed8-8199fb854529"
      },
      "source": [
        "X_train, X_test, Y_train, Y_test = train_test_split(train_texts,train_labels, test_size = 0.33, random_state = 42)\n",
        "print(X_train.shape,Y_train.shape)\n",
        "print(X_test.shape,Y_test.shape)"
      ],
      "execution_count": null,
      "outputs": [
        {
          "output_type": "stream",
          "text": [
            "(2144, 200) (2144,)\n",
            "(1056, 200) (1056,)\n"
          ],
          "name": "stdout"
        }
      ]
    },
    {
      "cell_type": "code",
      "metadata": {
        "id": "-7ULwflsAbB_"
      },
      "source": [
        "X_train = np.concatenate((train_texts, val_texts), axis=0)\n",
        "y_train = np.concatenate((train_labels, val_labels ), axis = 0)"
      ],
      "execution_count": null,
      "outputs": []
    },
    {
      "cell_type": "code",
      "metadata": {
        "id": "pVnBfuDwrgb1"
      },
      "source": [
        ""
      ],
      "execution_count": null,
      "outputs": []
    },
    {
      "cell_type": "markdown",
      "metadata": {
        "id": "Zqwkdcv0-JFi"
      },
      "source": [
        "# **Load pretrained embedding matrix**"
      ]
    },
    {
      "cell_type": "code",
      "metadata": {
        "colab": {
          "base_uri": "https://localhost:8080/"
        },
        "id": "WRw2BSr2-Q_n",
        "outputId": "29839d60-6a34-4349-c49a-26c85ec934fc"
      },
      "source": [
        "# load the whole embedding matrix dataset\n",
        "\n",
        "embeddings_index = dict()\n",
        "f = open('../content/data/all.review.vec.txt')\n",
        "\n",
        "for line in f:\n",
        "    values = line.split()\n",
        "    word = values[0]\n",
        "    coefs = np.asarray(values[1:], dtype='float32')\n",
        "    embeddings_index[word] = coefs\n",
        "\n",
        "f.close()\n",
        "print('Loaded %s word vectors.' % len(embeddings_index))\n",
        "\n",
        "size_of_vocabulary=len(tokenizer.word_index) + 1 #+1 for padding\n",
        "print(size_of_vocabulary)\n",
        "# create a weight matrix for words in training docs\n",
        "embedding_matrix = np.zeros((size_of_vocabulary, 100))\n",
        "\n",
        "for word, i in tokenizer.word_index.items():\n",
        "    embedding_vector = embeddings_index.get(word)\n",
        "    if embedding_vector is not None:\n",
        "        embedding_matrix[i] = embedding_vector"
      ],
      "execution_count": null,
      "outputs": [
        {
          "output_type": "stream",
          "text": [
            "Loaded 56051 word vectors.\n",
            "10001\n"
          ],
          "name": "stdout"
        }
      ]
    },
    {
      "cell_type": "markdown",
      "metadata": {
        "id": "-mFUAAh85pLd"
      },
      "source": [
        "# **CNN MODEL w/o pretrained**"
      ]
    },
    {
      "cell_type": "code",
      "metadata": {
        "id": "sSnaJdGaXEou"
      },
      "source": [
        "\n",
        "def build_model(var_optimizer='rmsprop'):\n",
        "    sequences = layers.Input(shape=(MAX_LENGTH,))\n",
        "    embedded = layers.Embedding(MAX_FEATURES, 100)(sequences)\n",
        "    x = layers.Conv1D(100, 3, activation='relu')(embedded)\n",
        "    \n",
        "    x = layers.Dense(100, activation=None)(x)\n",
        "    predictions = layers.Dense(1, activation='sigmoid')(x)\n",
        "    model = models.Model(inputs=sequences, outputs=predictions)\n",
        "    model.compile( optimizer=var_optimizer,\n",
        "        loss='binary_crossentropy',\n",
        "        metrics=['accuracy']\n",
        "    )\n",
        "    return model\n",
        "    \n",
        "model = build_model()\n",
        "es = EarlyStopping(monitor='val_loss', mode='min', verbose=1,patience=7)  \n",
        "mc=ModelCheckpoint('best_model.h5', monitor='val_acc', mode='max', save_best_only=True,verbose=1)  "
      ],
      "execution_count": null,
      "outputs": []
    },
    {
      "cell_type": "code",
      "metadata": {
        "colab": {
          "base_uri": "https://localhost:8080/"
        },
        "id": "dbaB5DVrugYW",
        "outputId": "7371cd5c-9716-407b-b348-6a0e9456af69"
      },
      "source": [
        "\n",
        "_optimizers=['sgd','adam','rmsprop']\n",
        "_batch_size=[16,32,64, 128]\n",
        "params=dict(\n",
        "            var_optimizer=_optimizers,\n",
        "            batch_size=_batch_size)\n",
        "print(params)"
      ],
      "execution_count": null,
      "outputs": [
        {
          "output_type": "stream",
          "text": [
            "{'var_optimizer': ['sgd', 'adam', 'rmsprop'], 'batch_size': [16, 32, 64, 128]}\n"
          ],
          "name": "stdout"
        }
      ]
    },
    {
      "cell_type": "code",
      "metadata": {
        "id": "1Qs7srlxuojO"
      },
      "source": [
        "model = KerasClassifier(build_fn=build_model,epochs=4,batch_size=16)"
      ],
      "execution_count": null,
      "outputs": []
    },
    {
      "cell_type": "code",
      "metadata": {
        "colab": {
          "base_uri": "https://localhost:8080/"
        },
        "id": "tkOR3pBUuvHc",
        "outputId": "ce81b829-1eb9-485c-977c-4452346addd7"
      },
      "source": [
        "# fine tuning to find hyperparameter\n",
        "rscv = RandomizedSearchCV(model, param_distributions=params, cv=3,     n_iter=10)\n",
        "rscv_results = rscv.fit(X_train,y_train)"
      ],
      "execution_count": null,
      "outputs": [
        {
          "output_type": "stream",
          "text": [
            "Epoch 1/4\n",
            "21/21 [==============================] - 3s 88ms/step - loss: 0.6933 - accuracy: 0.5033\n",
            "Epoch 2/4\n",
            "21/21 [==============================] - 2s 87ms/step - loss: 0.6814 - accuracy: 0.5600\n",
            "Epoch 3/4\n",
            "21/21 [==============================] - 2s 88ms/step - loss: 0.6374 - accuracy: 0.6062\n",
            "Epoch 4/4\n",
            "21/21 [==============================] - 2s 87ms/step - loss: 0.6132 - accuracy: 0.6317\n",
            "11/11 [==============================] - 0s 24ms/step - loss: 0.7094 - accuracy: 0.5521\n",
            "Epoch 1/4\n",
            "21/21 [==============================] - 3s 87ms/step - loss: 0.6929 - accuracy: 0.5077\n",
            "Epoch 2/4\n",
            "21/21 [==============================] - 2s 88ms/step - loss: 0.6772 - accuracy: 0.5832\n",
            "Epoch 3/4\n",
            "21/21 [==============================] - 2s 88ms/step - loss: 0.6335 - accuracy: 0.6123\n",
            "Epoch 4/4\n",
            "21/21 [==============================] - 2s 87ms/step - loss: 0.6113 - accuracy: 0.6247\n",
            "11/11 [==============================] - 0s 24ms/step - loss: 0.7121 - accuracy: 0.5586\n",
            "Epoch 1/4\n",
            "21/21 [==============================] - 3s 90ms/step - loss: 0.6933 - accuracy: 0.4981\n",
            "Epoch 2/4\n",
            "21/21 [==============================] - 2s 88ms/step - loss: 0.6833 - accuracy: 0.5542\n",
            "Epoch 3/4\n",
            "21/21 [==============================] - 2s 88ms/step - loss: 0.6403 - accuracy: 0.6013\n",
            "Epoch 4/4\n",
            "21/21 [==============================] - 2s 88ms/step - loss: 0.6120 - accuracy: 0.6186\n",
            "11/11 [==============================] - 0s 26ms/step - loss: 0.7069 - accuracy: 0.5571\n",
            "Epoch 1/4\n",
            "42/42 [==============================] - 3s 46ms/step - loss: 0.6920 - accuracy: 0.5256\n",
            "Epoch 2/4\n",
            "42/42 [==============================] - 2s 46ms/step - loss: 0.6543 - accuracy: 0.5787\n",
            "Epoch 3/4\n",
            "42/42 [==============================] - 2s 46ms/step - loss: 0.6272 - accuracy: 0.6138\n",
            "Epoch 4/4\n",
            "42/42 [==============================] - 2s 46ms/step - loss: 0.6188 - accuracy: 0.5949\n",
            "21/21 [==============================] - 0s 14ms/step - loss: 0.6897 - accuracy: 0.5592\n",
            "Epoch 1/4\n",
            "42/42 [==============================] - 3s 46ms/step - loss: 0.6921 - accuracy: 0.5041\n",
            "Epoch 2/4\n",
            "42/42 [==============================] - 2s 46ms/step - loss: 0.6512 - accuracy: 0.5922\n",
            "Epoch 3/4\n",
            "42/42 [==============================] - 2s 46ms/step - loss: 0.6246 - accuracy: 0.6088\n",
            "Epoch 4/4\n",
            "42/42 [==============================] - 2s 46ms/step - loss: 0.6161 - accuracy: 0.6141\n",
            "21/21 [==============================] - 0s 15ms/step - loss: 0.6887 - accuracy: 0.5544\n",
            "Epoch 1/4\n",
            "42/42 [==============================] - 3s 46ms/step - loss: 0.6925 - accuracy: 0.5206\n",
            "Epoch 2/4\n",
            "42/42 [==============================] - 2s 46ms/step - loss: 0.6493 - accuracy: 0.5940\n",
            "Epoch 3/4\n",
            "42/42 [==============================] - 2s 47ms/step - loss: 0.6286 - accuracy: 0.6147\n",
            "Epoch 4/4\n",
            "42/42 [==============================] - 2s 45ms/step - loss: 0.6157 - accuracy: 0.6225\n",
            "21/21 [==============================] - 0s 14ms/step - loss: 0.7021 - accuracy: 0.5554\n",
            "Epoch 1/4\n",
            "42/42 [==============================] - 2s 43ms/step - loss: 0.6938 - accuracy: 0.4841\n",
            "Epoch 2/4\n",
            "42/42 [==============================] - 2s 43ms/step - loss: 0.6937 - accuracy: 0.4870\n",
            "Epoch 3/4\n",
            "42/42 [==============================] - 2s 43ms/step - loss: 0.6932 - accuracy: 0.5022\n",
            "Epoch 4/4\n",
            "42/42 [==============================] - 2s 42ms/step - loss: 0.6933 - accuracy: 0.4930\n",
            "21/21 [==============================] - 0s 14ms/step - loss: 0.6933 - accuracy: 0.4978\n",
            "Epoch 1/4\n",
            "42/42 [==============================] - 2s 41ms/step - loss: 0.6933 - accuracy: 0.5000\n",
            "Epoch 2/4\n",
            "42/42 [==============================] - 2s 42ms/step - loss: 0.6934 - accuracy: 0.4944\n",
            "Epoch 3/4\n",
            "42/42 [==============================] - 2s 43ms/step - loss: 0.6934 - accuracy: 0.4984\n",
            "Epoch 4/4\n",
            "42/42 [==============================] - 2s 42ms/step - loss: 0.6932 - accuracy: 0.5014\n",
            "21/21 [==============================] - 0s 14ms/step - loss: 0.6935 - accuracy: 0.4943\n",
            "Epoch 1/4\n",
            "42/42 [==============================] - 3s 41ms/step - loss: 0.6941 - accuracy: 0.4877\n",
            "Epoch 2/4\n",
            "42/42 [==============================] - 2s 42ms/step - loss: 0.6935 - accuracy: 0.5002\n",
            "Epoch 3/4\n",
            "42/42 [==============================] - 2s 41ms/step - loss: 0.6930 - accuracy: 0.5116\n",
            "Epoch 4/4\n",
            "42/42 [==============================] - 2s 43ms/step - loss: 0.6934 - accuracy: 0.4972\n",
            "21/21 [==============================] - 0s 15ms/step - loss: 0.6934 - accuracy: 0.4945\n",
            "Epoch 1/4\n",
            "84/84 [==============================] - 3s 28ms/step - loss: 0.6902 - accuracy: 0.5220\n",
            "Epoch 2/4\n",
            "84/84 [==============================] - 2s 28ms/step - loss: 0.6489 - accuracy: 0.5891\n",
            "Epoch 3/4\n",
            "84/84 [==============================] - 2s 28ms/step - loss: 0.6335 - accuracy: 0.6065\n",
            "Epoch 4/4\n",
            "84/84 [==============================] - 2s 28ms/step - loss: 0.6171 - accuracy: 0.6184\n",
            "42/42 [==============================] - 1s 8ms/step - loss: 0.6848 - accuracy: 0.5601\n",
            "Epoch 1/4\n",
            "84/84 [==============================] - 3s 28ms/step - loss: 0.6908 - accuracy: 0.5056\n",
            "Epoch 2/4\n",
            "84/84 [==============================] - 2s 28ms/step - loss: 0.6468 - accuracy: 0.5835\n",
            "Epoch 3/4\n",
            "84/84 [==============================] - 2s 28ms/step - loss: 0.6288 - accuracy: 0.6090\n",
            "Epoch 4/4\n",
            "84/84 [==============================] - 2s 28ms/step - loss: 0.6189 - accuracy: 0.6151\n",
            "42/42 [==============================] - 0s 8ms/step - loss: 0.6898 - accuracy: 0.5627\n",
            "Epoch 1/4\n",
            "84/84 [==============================] - 3s 28ms/step - loss: 0.6909 - accuracy: 0.5107\n",
            "Epoch 2/4\n",
            "84/84 [==============================] - 2s 27ms/step - loss: 0.6491 - accuracy: 0.6011\n",
            "Epoch 3/4\n",
            "84/84 [==============================] - 2s 27ms/step - loss: 0.6272 - accuracy: 0.6147\n",
            "Epoch 4/4\n",
            "84/84 [==============================] - 2s 28ms/step - loss: 0.6174 - accuracy: 0.6075\n",
            "42/42 [==============================] - 1s 8ms/step - loss: 0.6873 - accuracy: 0.5599\n",
            "Epoch 1/4\n",
            "21/21 [==============================] - 3s 86ms/step - loss: 0.6920 - accuracy: 0.5342\n",
            "Epoch 2/4\n",
            "21/21 [==============================] - 2s 84ms/step - loss: 0.6599 - accuracy: 0.5854\n",
            "Epoch 3/4\n",
            "21/21 [==============================] - 2s 84ms/step - loss: 0.6312 - accuracy: 0.5967\n",
            "Epoch 4/4\n",
            "21/21 [==============================] - 2s 85ms/step - loss: 0.6171 - accuracy: 0.6199\n",
            "11/11 [==============================] - 0s 25ms/step - loss: 0.6933 - accuracy: 0.5600\n",
            "Epoch 1/4\n",
            "21/21 [==============================] - 3s 84ms/step - loss: 0.6898 - accuracy: 0.5406\n",
            "Epoch 2/4\n",
            "21/21 [==============================] - 2s 84ms/step - loss: 0.6589 - accuracy: 0.5936\n",
            "Epoch 3/4\n",
            "21/21 [==============================] - 2s 85ms/step - loss: 0.6311 - accuracy: 0.6086\n",
            "Epoch 4/4\n",
            "21/21 [==============================] - 2s 84ms/step - loss: 0.6162 - accuracy: 0.6119\n",
            "11/11 [==============================] - 0s 25ms/step - loss: 0.6918 - accuracy: 0.5538\n",
            "Epoch 1/4\n",
            "21/21 [==============================] - 3s 86ms/step - loss: 0.6925 - accuracy: 0.5230\n",
            "Epoch 2/4\n",
            "21/21 [==============================] - 2s 85ms/step - loss: 0.6543 - accuracy: 0.5957\n",
            "Epoch 3/4\n",
            "21/21 [==============================] - 2s 84ms/step - loss: 0.6261 - accuracy: 0.6114\n",
            "Epoch 4/4\n",
            "21/21 [==============================] - 2s 84ms/step - loss: 0.6118 - accuracy: 0.6196\n",
            "11/11 [==============================] - 0s 26ms/step - loss: 0.6923 - accuracy: 0.5542\n",
            "Epoch 1/4\n",
            "84/84 [==============================] - 3s 23ms/step - loss: 0.6934 - accuracy: 0.4958\n",
            "Epoch 2/4\n",
            "84/84 [==============================] - 2s 23ms/step - loss: 0.6932 - accuracy: 0.5055\n",
            "Epoch 3/4\n",
            "84/84 [==============================] - 2s 24ms/step - loss: 0.6932 - accuracy: 0.4949\n",
            "Epoch 4/4\n",
            "84/84 [==============================] - 2s 23ms/step - loss: 0.6934 - accuracy: 0.4917\n",
            "42/42 [==============================] - 1s 8ms/step - loss: 0.6933 - accuracy: 0.4961\n",
            "Epoch 1/4\n",
            "84/84 [==============================] - 3s 24ms/step - loss: 0.6935 - accuracy: 0.4950\n",
            "Epoch 2/4\n",
            "84/84 [==============================] - 2s 23ms/step - loss: 0.6934 - accuracy: 0.4985\n",
            "Epoch 3/4\n",
            "84/84 [==============================] - 2s 23ms/step - loss: 0.6932 - accuracy: 0.5047\n",
            "Epoch 4/4\n",
            "84/84 [==============================] - 2s 23ms/step - loss: 0.6927 - accuracy: 0.5182\n",
            "42/42 [==============================] - 1s 8ms/step - loss: 0.6935 - accuracy: 0.4912\n",
            "Epoch 1/4\n",
            "84/84 [==============================] - 3s 23ms/step - loss: 0.6941 - accuracy: 0.4823\n",
            "Epoch 2/4\n",
            "84/84 [==============================] - 2s 23ms/step - loss: 0.6940 - accuracy: 0.4862\n",
            "Epoch 3/4\n",
            "84/84 [==============================] - 2s 23ms/step - loss: 0.6930 - accuracy: 0.5109\n",
            "Epoch 4/4\n",
            "84/84 [==============================] - 2s 23ms/step - loss: 0.6935 - accuracy: 0.4764\n",
            "42/42 [==============================] - 1s 8ms/step - loss: 0.6935 - accuracy: 0.4929\n",
            "Epoch 1/4\n",
            "167/167 [==============================] - 5s 23ms/step - loss: 0.6916 - accuracy: 0.5197\n",
            "Epoch 2/4\n",
            "167/167 [==============================] - 4s 24ms/step - loss: 0.6426 - accuracy: 0.6006\n",
            "Epoch 3/4\n",
            "167/167 [==============================] - 4s 23ms/step - loss: 0.6148 - accuracy: 0.6114\n",
            "Epoch 4/4\n",
            "167/167 [==============================] - 4s 23ms/step - loss: 0.5969 - accuracy: 0.6149\n",
            "84/84 [==============================] - 1s 5ms/step - loss: 0.7149 - accuracy: 0.5562\n",
            "Epoch 1/4\n",
            "167/167 [==============================] - 5s 23ms/step - loss: 0.6904 - accuracy: 0.5275\n",
            "Epoch 2/4\n",
            "167/167 [==============================] - 4s 23ms/step - loss: 0.6440 - accuracy: 0.5943\n",
            "Epoch 3/4\n",
            "167/167 [==============================] - 4s 23ms/step - loss: 0.6130 - accuracy: 0.6031\n",
            "Epoch 4/4\n",
            "167/167 [==============================] - 4s 24ms/step - loss: 0.5994 - accuracy: 0.6222\n",
            "84/84 [==============================] - 1s 5ms/step - loss: 0.7170 - accuracy: 0.5492\n",
            "Epoch 1/4\n",
            "167/167 [==============================] - 5s 24ms/step - loss: 0.6899 - accuracy: 0.5099\n",
            "Epoch 2/4\n",
            "167/167 [==============================] - 4s 23ms/step - loss: 0.6385 - accuracy: 0.6028\n",
            "Epoch 3/4\n",
            "167/167 [==============================] - 4s 23ms/step - loss: 0.6076 - accuracy: 0.6134\n",
            "Epoch 4/4\n",
            "167/167 [==============================] - 4s 24ms/step - loss: 0.5873 - accuracy: 0.6436\n",
            "84/84 [==============================] - 1s 5ms/step - loss: 0.7214 - accuracy: 0.5526\n",
            "Epoch 1/4\n",
            "84/84 [==============================] - 4s 33ms/step - loss: 0.6927 - accuracy: 0.5147\n",
            "Epoch 2/4\n",
            "84/84 [==============================] - 3s 33ms/step - loss: 0.6456 - accuracy: 0.5920\n",
            "Epoch 3/4\n",
            "84/84 [==============================] - 3s 33ms/step - loss: 0.6187 - accuracy: 0.6111\n",
            "Epoch 4/4\n",
            "84/84 [==============================] - 3s 34ms/step - loss: 0.6024 - accuracy: 0.6148\n",
            "42/42 [==============================] - 1s 8ms/step - loss: 0.7122 - accuracy: 0.5579\n",
            "Epoch 1/4\n",
            "84/84 [==============================] - 4s 34ms/step - loss: 0.6915 - accuracy: 0.5083\n",
            "Epoch 2/4\n",
            "84/84 [==============================] - 3s 34ms/step - loss: 0.6431 - accuracy: 0.6002\n",
            "Epoch 3/4\n",
            "84/84 [==============================] - 3s 33ms/step - loss: 0.6180 - accuracy: 0.6118\n",
            "Epoch 4/4\n",
            "84/84 [==============================] - 3s 33ms/step - loss: 0.5961 - accuracy: 0.6245\n",
            "42/42 [==============================] - 1s 8ms/step - loss: 0.7132 - accuracy: 0.5592\n",
            "Epoch 1/4\n",
            "84/84 [==============================] - 3s 33ms/step - loss: 0.6915 - accuracy: 0.5212\n",
            "Epoch 2/4\n",
            "84/84 [==============================] - 3s 33ms/step - loss: 0.6448 - accuracy: 0.6098\n",
            "Epoch 3/4\n",
            "84/84 [==============================] - 3s 33ms/step - loss: 0.6124 - accuracy: 0.6160\n",
            "Epoch 4/4\n",
            "84/84 [==============================] - 3s 33ms/step - loss: 0.5931 - accuracy: 0.6337\n",
            "42/42 [==============================] - 1s 8ms/step - loss: 0.7126 - accuracy: 0.5578\n",
            "Epoch 1/4\n",
            "21/21 [==============================] - 2s 81ms/step - loss: 0.6932 - accuracy: 0.4938\n",
            "Epoch 2/4\n",
            "21/21 [==============================] - 2s 81ms/step - loss: 0.6933 - accuracy: 0.4930\n",
            "Epoch 3/4\n",
            "21/21 [==============================] - 2s 81ms/step - loss: 0.6933 - accuracy: 0.4931\n",
            "Epoch 4/4\n",
            "21/21 [==============================] - 2s 82ms/step - loss: 0.6932 - accuracy: 0.5022\n",
            "11/11 [==============================] - 1s 26ms/step - loss: 0.6932 - accuracy: 0.4982\n",
            "Epoch 1/4\n",
            "21/21 [==============================] - 2s 83ms/step - loss: 0.6934 - accuracy: 0.4929\n",
            "Epoch 2/4\n",
            "21/21 [==============================] - 2s 80ms/step - loss: 0.6932 - accuracy: 0.4995\n",
            "Epoch 3/4\n",
            "21/21 [==============================] - 2s 79ms/step - loss: 0.6931 - accuracy: 0.5052\n",
            "Epoch 4/4\n",
            "21/21 [==============================] - 2s 81ms/step - loss: 0.6931 - accuracy: 0.5042\n",
            "11/11 [==============================] - 0s 25ms/step - loss: 0.6933 - accuracy: 0.4988\n",
            "Epoch 1/4\n",
            "21/21 [==============================] - 2s 80ms/step - loss: 0.6934 - accuracy: 0.4915\n",
            "Epoch 2/4\n",
            "21/21 [==============================] - 2s 82ms/step - loss: 0.6932 - accuracy: 0.5016\n",
            "Epoch 3/4\n",
            "21/21 [==============================] - 2s 80ms/step - loss: 0.6932 - accuracy: 0.4992\n",
            "Epoch 4/4\n",
            "21/21 [==============================] - 2s 80ms/step - loss: 0.6932 - accuracy: 0.4953\n",
            "11/11 [==============================] - 0s 25ms/step - loss: 0.6933 - accuracy: 0.4971\n",
            "Epoch 1/4\n",
            "167/167 [==============================] - 3s 14ms/step - loss: 0.6935 - accuracy: 0.4848\n",
            "Epoch 2/4\n",
            "167/167 [==============================] - 2s 14ms/step - loss: 0.6934 - accuracy: 0.5009\n",
            "Epoch 3/4\n",
            "167/167 [==============================] - 2s 14ms/step - loss: 0.6931 - accuracy: 0.5021\n",
            "Epoch 4/4\n",
            "167/167 [==============================] - 2s 14ms/step - loss: 0.6938 - accuracy: 0.4817\n",
            "84/84 [==============================] - 1s 5ms/step - loss: 0.6934 - accuracy: 0.4947\n",
            "Epoch 1/4\n",
            "167/167 [==============================] - 3s 14ms/step - loss: 0.6936 - accuracy: 0.4922\n",
            "Epoch 2/4\n",
            "167/167 [==============================] - 2s 14ms/step - loss: 0.6933 - accuracy: 0.5020\n",
            "Epoch 3/4\n",
            "167/167 [==============================] - 2s 14ms/step - loss: 0.6934 - accuracy: 0.4932\n",
            "Epoch 4/4\n",
            "167/167 [==============================] - 2s 14ms/step - loss: 0.6937 - accuracy: 0.4766\n",
            "84/84 [==============================] - 1s 5ms/step - loss: 0.6941 - accuracy: 0.4854\n",
            "Epoch 1/4\n",
            "167/167 [==============================] - 3s 13ms/step - loss: 0.6937 - accuracy: 0.4874\n",
            "Epoch 2/4\n",
            "167/167 [==============================] - 2s 13ms/step - loss: 0.6934 - accuracy: 0.4922\n",
            "Epoch 3/4\n",
            "167/167 [==============================] - 2s 14ms/step - loss: 0.6931 - accuracy: 0.5069\n",
            "Epoch 4/4\n",
            "167/167 [==============================] - 2s 14ms/step - loss: 0.6931 - accuracy: 0.5017\n",
            "84/84 [==============================] - 1s 5ms/step - loss: 0.6938 - accuracy: 0.4898\n",
            "Epoch 1/4\n",
            "125/125 [==============================] - 4s 28ms/step - loss: 0.6872 - accuracy: 0.5334\n",
            "Epoch 2/4\n",
            "125/125 [==============================] - 3s 28ms/step - loss: 0.6513 - accuracy: 0.5868\n",
            "Epoch 3/4\n",
            "125/125 [==============================] - 3s 28ms/step - loss: 0.6365 - accuracy: 0.6043\n",
            "Epoch 4/4\n",
            "125/125 [==============================] - 3s 27ms/step - loss: 0.6285 - accuracy: 0.6057\n"
          ],
          "name": "stdout"
        }
      ]
    },
    {
      "cell_type": "code",
      "metadata": {
        "colab": {
          "base_uri": "https://localhost:8080/"
        },
        "id": "VRmog0eCvucB",
        "outputId": "809164c1-9353-43e2-e554-1022428ca04e"
      },
      "source": [
        "print('Best score is: {} using {}'.format(rscv_results.best_score_,\n",
        "rscv_results.best_params_))"
      ],
      "execution_count": null,
      "outputs": [
        {
          "output_type": "stream",
          "text": [
            "Best score is: 0.5608930985132853 using {'var_optimizer': 'rmsprop', 'batch_size': 32}\n"
          ],
          "name": "stdout"
        }
      ]
    },
    {
      "cell_type": "code",
      "metadata": {
        "colab": {
          "base_uri": "https://localhost:8080/",
          "height": 1000
        },
        "id": "iyVb4Ou3XQzK",
        "outputId": "58445fee-3624-4097-c0da-ec312bdf47c3"
      },
      "source": [
        "model_glove=Sequential()\n",
        "\n",
        "#embedding layer\n",
        "model_glove.add(Embedding(size_of_vocabulary,100,input_length=MAX_LENGTH)) \n",
        "\n",
        "#lstm layer\n",
        "model_glove.add(Conv1D(100, 3, activation='relu',strides=1))\n",
        "model_glove.add(MaxPooling1D(pool_size=4))\n",
        "model_glove.add(Flatten())\n",
        "model_glove.add(Dense(100, activation= None))\n",
        "model_glove.add(Dense(1, activation='sigmoid'))\n",
        "\n",
        "#Add loss function, metrics, optimizer\n",
        "model_glove.compile(optimizer='rmsprop', loss='binary_crossentropy',metrics=[\"accuracy\"]) \n",
        "\n",
        "#Adding callbacks\n",
        "es = EarlyStopping(monitor='val_loss', mode='min', verbose=1,patience=10)  \n",
        "mc=ModelCheckpoint('best_model.h5', monitor='val_acc', mode='max', save_best_only=True,verbose=1)  \n",
        "\n",
        "#Print summary of model\n",
        "print(model_glove.summary())\n",
        "start = time.time()\n",
        "history = model_glove.fit(train_texts,np.array(train_labels),batch_size= 128,epochs=60,validation_data=(val_texts,np.array(val_labels)),verbose=1,callbacks=[es,mc])\n",
        "\n",
        "stop = time.time()\n",
        "print(f\"Training time for CNN w/o pretrained : {stop - start}s\")\n",
        "print('ACC max',np.max(history.history['accuracy']))\n",
        "# summarize history for accuracy\n",
        "plt.plot(history.history['accuracy'])\n",
        "plt.plot(history.history['val_accuracy'])\n",
        "plt.title('model accuracy')\n",
        "plt.ylabel('accuracy')\n",
        "plt.xlabel('epoch')\n",
        "plt.legend(['train', 'test'], loc='upper left')\n",
        "plt.show()\n",
        "# summarize history for loss\n",
        "plt.plot(history.history['loss'])\n",
        "plt.plot(history.history['val_loss'])\n",
        "plt.title('model loss')\n",
        "plt.ylabel('loss')\n",
        "plt.xlabel('epoch')\n",
        "plt.legend(['train', 'test'], loc='upper left')\n",
        "plt.show()"
      ],
      "execution_count": null,
      "outputs": [
        {
          "output_type": "stream",
          "text": [
            "Model: \"sequential_7\"\n",
            "_________________________________________________________________\n",
            "Layer (type)                 Output Shape              Param #   \n",
            "=================================================================\n",
            "embedding_11 (Embedding)     (None, 200, 100)          1000100   \n",
            "_________________________________________________________________\n",
            "conv1d_4 (Conv1D)            (None, 198, 100)          30100     \n",
            "_________________________________________________________________\n",
            "max_pooling1d_4 (MaxPooling1 (None, 49, 100)           0         \n",
            "_________________________________________________________________\n",
            "flatten_3 (Flatten)          (None, 4900)              0         \n",
            "_________________________________________________________________\n",
            "dense_16 (Dense)             (None, 100)               490100    \n",
            "_________________________________________________________________\n",
            "dense_17 (Dense)             (None, 1)                 101       \n",
            "=================================================================\n",
            "Total params: 1,520,401\n",
            "Trainable params: 1,520,401\n",
            "Non-trainable params: 0\n",
            "_________________________________________________________________\n",
            "None\n",
            "Epoch 1/60\n",
            "25/25 [==============================] - 5s 176ms/step - loss: 0.7385 - accuracy: 0.5068 - val_loss: 0.6691 - val_accuracy: 0.5537\n",
            "WARNING:tensorflow:Can save best model only with val_acc available, skipping.\n",
            "Epoch 2/60\n",
            "25/25 [==============================] - 4s 168ms/step - loss: 0.5334 - accuracy: 0.7915 - val_loss: 0.4344 - val_accuracy: 0.8125\n",
            "WARNING:tensorflow:Can save best model only with val_acc available, skipping.\n",
            "Epoch 3/60\n",
            "25/25 [==============================] - 4s 167ms/step - loss: 0.1828 - accuracy: 0.9564 - val_loss: 0.4054 - val_accuracy: 0.8350\n",
            "WARNING:tensorflow:Can save best model only with val_acc available, skipping.\n",
            "Epoch 4/60\n",
            "25/25 [==============================] - 4s 167ms/step - loss: 0.0667 - accuracy: 0.9853 - val_loss: 0.6716 - val_accuracy: 0.7588\n",
            "WARNING:tensorflow:Can save best model only with val_acc available, skipping.\n",
            "Epoch 5/60\n",
            "25/25 [==============================] - 4s 170ms/step - loss: 0.0300 - accuracy: 0.9949 - val_loss: 0.5848 - val_accuracy: 0.8012\n",
            "WARNING:tensorflow:Can save best model only with val_acc available, skipping.\n",
            "Epoch 6/60\n",
            "25/25 [==============================] - 4s 176ms/step - loss: 0.0126 - accuracy: 0.9973 - val_loss: 0.6727 - val_accuracy: 0.8188\n",
            "WARNING:tensorflow:Can save best model only with val_acc available, skipping.\n",
            "Epoch 7/60\n",
            "25/25 [==============================] - 4s 174ms/step - loss: 0.0043 - accuracy: 0.9989 - val_loss: 0.7760 - val_accuracy: 0.8250\n",
            "WARNING:tensorflow:Can save best model only with val_acc available, skipping.\n",
            "Epoch 8/60\n",
            "25/25 [==============================] - 4s 175ms/step - loss: 0.0075 - accuracy: 0.9981 - val_loss: 0.9101 - val_accuracy: 0.8112\n",
            "WARNING:tensorflow:Can save best model only with val_acc available, skipping.\n",
            "Epoch 9/60\n",
            "25/25 [==============================] - 5s 183ms/step - loss: 0.0013 - accuracy: 1.0000 - val_loss: 0.9290 - val_accuracy: 0.8100\n",
            "WARNING:tensorflow:Can save best model only with val_acc available, skipping.\n",
            "Epoch 10/60\n",
            "25/25 [==============================] - 5s 181ms/step - loss: 8.7494e-04 - accuracy: 1.0000 - val_loss: 1.0075 - val_accuracy: 0.8075\n",
            "WARNING:tensorflow:Can save best model only with val_acc available, skipping.\n",
            "Epoch 11/60\n",
            "25/25 [==============================] - 5s 181ms/step - loss: 4.9898e-04 - accuracy: 0.9997 - val_loss: 1.1235 - val_accuracy: 0.8112\n",
            "WARNING:tensorflow:Can save best model only with val_acc available, skipping.\n",
            "Epoch 12/60\n",
            "25/25 [==============================] - 4s 178ms/step - loss: 2.0059e-04 - accuracy: 1.0000 - val_loss: 1.2421 - val_accuracy: 0.8087\n",
            "WARNING:tensorflow:Can save best model only with val_acc available, skipping.\n",
            "Epoch 13/60\n",
            "25/25 [==============================] - 4s 181ms/step - loss: 1.1440e-04 - accuracy: 1.0000 - val_loss: 1.3672 - val_accuracy: 0.8050\n",
            "WARNING:tensorflow:Can save best model only with val_acc available, skipping.\n",
            "Epoch 00013: early stopping\n",
            "Training time for CNN w/o pretrained : 57.59860062599182s\n",
            "ACC max 1.0\n"
          ],
          "name": "stdout"
        },
        {
          "output_type": "display_data",
          "data": {
            "image/png": "[encoded data removed]",
            "text/plain": [
              "<Figure size 432x288 with 1 Axes>"
            ]
          },
          "metadata": {
            "tags": []
          }
        },
        {
          "output_type": "display_data",
          "data": {
            "image/png": "[encoded data removed]",
            "text/plain": [
              "<Figure size 432x288 with 1 Axes>"
            ]
          },
          "metadata": {
            "tags": []
          }
        }
      ]
    },
    {
      "cell_type": "markdown",
      "metadata": {
        "id": "BqG0pqe972Ph"
      },
      "source": [
        "# **CNN w pretrained**"
      ]
    },
    {
      "cell_type": "code",
      "metadata": {
        "colab": {
          "base_uri": "https://localhost:8080/",
          "height": 1000
        },
        "id": "xVnmPNkBM0_M",
        "outputId": "c7dc50d8-f910-4b2f-c0e1-3674324bfb47"
      },
      "source": [
        "model_glove=Sequential()\n",
        "\n",
        "#embedding layer\n",
        "model_glove.add(Embedding(size_of_vocabulary,100,weights=[embedding_matrix],input_length=MAX_LENGTH,trainable=False)) \n",
        "\n",
        "#lstm layer\n",
        "model_glove.add(Conv1D(100, 3, activation='relu',strides=1))\n",
        "model_glove.add(MaxPooling1D(pool_size=4))\n",
        "model_glove.add(Flatten())\n",
        "model_glove.add(Dense(100, activation= None))\n",
        "model_glove.add(Dense(1, activation='sigmoid'))\n",
        "\n",
        "#Add loss function, metrics, optimizer\n",
        "model_glove.compile(optimizer='rmsprop', loss='binary_crossentropy',metrics=[\"accuracy\"]) \n",
        "\n",
        "#Adding callbacks\n",
        "es = EarlyStopping(monitor='val_loss', mode='min', verbose=1,patience=10)  \n",
        "mc=ModelCheckpoint('best_model.h5', monitor='val_acc', mode='max', save_best_only=True,verbose=1)  \n",
        "\n",
        "#Print summary of model\n",
        "print(model.summary())\n",
        "start = time.time()\n",
        "history = model_glove.fit(train_texts,np.array(train_labels),batch_size= 128,epochs=60,validation_data=(val_texts,np.array(val_labels)),verbose=1,callbacks=[es,mc])\n",
        "\n",
        "stop = time.time()\n",
        "print(f\"Training time for CNN w pretrained : {stop - start}s\")\n",
        "print('ACC max',np.max(history.history['accuracy']))\n",
        "# summarize history for accuracy\n",
        "plt.plot(history.history['accuracy'])\n",
        "plt.plot(history.history['val_accuracy'])\n",
        "plt.title('model accuracy')\n",
        "plt.ylabel('accuracy')\n",
        "plt.xlabel('epoch')\n",
        "plt.legend(['train', 'test'], loc='upper left')\n",
        "plt.show()\n",
        "# summarize history for loss\n",
        "plt.plot(history.history['loss'])\n",
        "plt.plot(history.history['val_loss'])\n",
        "plt.title('model loss')\n",
        "plt.ylabel('loss')\n",
        "plt.xlabel('epoch')\n",
        "plt.legend(['train', 'test'], loc='upper left')\n",
        "plt.show()"
      ],
      "execution_count": null,
      "outputs": [
        {
          "output_type": "stream",
          "text": [
            "Model: \"sequential_2\"\n",
            "_________________________________________________________________\n",
            "Layer (type)                 Output Shape              Param #   \n",
            "=================================================================\n",
            "embedding_6 (Embedding)      (None, 200, 100)          1000100   \n",
            "_________________________________________________________________\n",
            "lstm_6 (LSTM)                (None, 200, 100)          80400     \n",
            "_________________________________________________________________\n",
            "global_max_pooling1d_5 (Glob (None, 100)               0         \n",
            "_________________________________________________________________\n",
            "dense_6 (Dense)              (None, 100)               10100     \n",
            "_________________________________________________________________\n",
            "dense_7 (Dense)              (None, 1)                 101       \n",
            "=================================================================\n",
            "Total params: 1,090,701\n",
            "Trainable params: 90,601\n",
            "Non-trainable params: 1,000,100\n",
            "_________________________________________________________________\n",
            "None\n",
            "Epoch 1/60\n",
            "25/25 [==============================] - 4s 137ms/step - loss: 1.0606 - accuracy: 0.5283 - val_loss: 0.6269 - val_accuracy: 0.7175\n",
            "WARNING:tensorflow:Can save best model only with val_acc available, skipping.\n",
            "Epoch 2/60\n",
            "25/25 [==============================] - 3s 127ms/step - loss: 0.6166 - accuracy: 0.6958 - val_loss: 0.8031 - val_accuracy: 0.5888\n",
            "WARNING:tensorflow:Can save best model only with val_acc available, skipping.\n",
            "Epoch 3/60\n",
            "25/25 [==============================] - 3s 126ms/step - loss: 0.5568 - accuracy: 0.7501 - val_loss: 0.4482 - val_accuracy: 0.8062\n",
            "WARNING:tensorflow:Can save best model only with val_acc available, skipping.\n",
            "Epoch 4/60\n",
            "25/25 [==============================] - 3s 127ms/step - loss: 0.4003 - accuracy: 0.8352 - val_loss: 0.4750 - val_accuracy: 0.8050\n",
            "WARNING:tensorflow:Can save best model only with val_acc available, skipping.\n",
            "Epoch 5/60\n",
            "25/25 [==============================] - 3s 128ms/step - loss: 0.3289 - accuracy: 0.8648 - val_loss: 0.4024 - val_accuracy: 0.8163\n",
            "WARNING:tensorflow:Can save best model only with val_acc available, skipping.\n",
            "Epoch 6/60\n",
            "25/25 [==============================] - 3s 126ms/step - loss: 0.2543 - accuracy: 0.9093 - val_loss: 0.3953 - val_accuracy: 0.8238\n",
            "WARNING:tensorflow:Can save best model only with val_acc available, skipping.\n",
            "Epoch 7/60\n",
            "25/25 [==============================] - 3s 126ms/step - loss: 0.1914 - accuracy: 0.9387 - val_loss: 0.4138 - val_accuracy: 0.8087\n",
            "WARNING:tensorflow:Can save best model only with val_acc available, skipping.\n",
            "Epoch 8/60\n",
            "25/25 [==============================] - 3s 128ms/step - loss: 0.1567 - accuracy: 0.9489 - val_loss: 0.4161 - val_accuracy: 0.8225\n",
            "WARNING:tensorflow:Can save best model only with val_acc available, skipping.\n",
            "Epoch 9/60\n",
            "25/25 [==============================] - 3s 129ms/step - loss: 0.1951 - accuracy: 0.9386 - val_loss: 0.4957 - val_accuracy: 0.8087\n",
            "WARNING:tensorflow:Can save best model only with val_acc available, skipping.\n",
            "Epoch 10/60\n",
            "25/25 [==============================] - 3s 126ms/step - loss: 0.1328 - accuracy: 0.9629 - val_loss: 0.4441 - val_accuracy: 0.8138\n",
            "WARNING:tensorflow:Can save best model only with val_acc available, skipping.\n",
            "Epoch 11/60\n",
            "25/25 [==============================] - 3s 127ms/step - loss: 0.0555 - accuracy: 0.9912 - val_loss: 0.7188 - val_accuracy: 0.7725\n",
            "WARNING:tensorflow:Can save best model only with val_acc available, skipping.\n",
            "Epoch 12/60\n",
            "25/25 [==============================] - 3s 130ms/step - loss: 0.2311 - accuracy: 0.9277 - val_loss: 0.4816 - val_accuracy: 0.8163\n",
            "WARNING:tensorflow:Can save best model only with val_acc available, skipping.\n",
            "Epoch 13/60\n",
            "25/25 [==============================] - 3s 129ms/step - loss: 0.0514 - accuracy: 0.9909 - val_loss: 0.4902 - val_accuracy: 0.8138\n",
            "WARNING:tensorflow:Can save best model only with val_acc available, skipping.\n",
            "Epoch 14/60\n",
            "25/25 [==============================] - 3s 129ms/step - loss: 0.0251 - accuracy: 0.9969 - val_loss: 0.5428 - val_accuracy: 0.8163\n",
            "WARNING:tensorflow:Can save best model only with val_acc available, skipping.\n",
            "Epoch 15/60\n",
            "25/25 [==============================] - 3s 128ms/step - loss: 0.0814 - accuracy: 0.9865 - val_loss: 0.5184 - val_accuracy: 0.8250\n",
            "WARNING:tensorflow:Can save best model only with val_acc available, skipping.\n",
            "Epoch 16/60\n",
            "25/25 [==============================] - 3s 126ms/step - loss: 0.0136 - accuracy: 0.9994 - val_loss: 0.5620 - val_accuracy: 0.8163\n",
            "WARNING:tensorflow:Can save best model only with val_acc available, skipping.\n",
            "Epoch 00016: early stopping\n",
            "Training time for CNN w pretrained : 51.81537938117981s\n",
            "ACC max 0.9990624785423279\n"
          ],
          "name": "stdout"
        },
        {
          "output_type": "display_data",
          "data": {
            "image/png": "[encoded data removed]",
            "text/plain": [
              "<Figure size 432x288 with 1 Axes>"
            ]
          },
          "metadata": {
            "tags": []
          }
        },
        {
          "output_type": "display_data",
          "data": {
            "image/png": "[encoded data removed]",
            "text/plain": [
              "<Figure size 432x288 with 1 Axes>"
            ]
          },
          "metadata": {
            "tags": []
          }
        }
      ]
    },
    {
      "cell_type": "code",
      "metadata": {
        "colab": {
          "base_uri": "https://localhost:8080/",
          "height": 1000
        },
        "id": "EzU59arPABqi",
        "outputId": "5ebf3410-e11c-443e-f0a3-8d5d08de9866"
      },
      "source": [
        "model_glove = Sequential()\n",
        "model_glove.add(Embedding(size_of_vocabulary, 100, input_length=50, weights=[embedding_matrix], trainable=False))\n",
        "model_glove.add(Conv1D(100, 3, activation='relu'))\n",
        "model_glove.add(MaxPooling1D(pool_size=4))\n",
        "\n",
        "model_glove.add(Dense(1, activation='sigmoid'))\n",
        "model_glove.compile(loss='binary_crossentropy', optimizer='adam', metrics=['accuracy'])\n",
        "## Fit train data\n",
        "start = time.time()\n",
        "history = model_glove.fit(train_texts,np.array(train_labels),batch_size=32,epochs=20,validation_data=(val_texts,np.array(val_labels)),verbose=1,callbacks=[es,mc])\n",
        "\n",
        "stop = time.time()\n",
        "print(f\"Training time for CNN w pretrained : {stop - start}s\")\n",
        "print('ACC max',np.max(history.history['accuracy']))\n",
        "# summarize history for accuracy\n",
        "plt.plot(history.history['accuracy'])\n",
        "plt.plot(history.history['val_accuracy'])\n",
        "plt.title('model accuracy')\n",
        "plt.ylabel('accuracy')\n",
        "plt.xlabel('epoch')\n",
        "plt.legend(['train', 'test'], loc='upper left')\n",
        "plt.show()\n",
        "# summarize history for loss\n",
        "plt.plot(history.history['loss'])\n",
        "plt.plot(history.history['val_loss'])\n",
        "plt.title('model loss')\n",
        "plt.ylabel('loss')\n",
        "plt.xlabel('epoch')\n",
        "plt.legend(['train', 'test'], loc='upper left')\n",
        "plt.show()"
      ],
      "execution_count": null,
      "outputs": [
        {
          "output_type": "stream",
          "text": [
            "Epoch 1/20\n",
            "WARNING:tensorflow:Model was constructed with shape (None, 50) for input KerasTensor(type_spec=TensorSpec(shape=(None, 50), dtype=tf.float32, name='embedding_52_input'), name='embedding_52_input', description=\"created by layer 'embedding_52_input'\"), but it was called on an input with incompatible shape (32, 200).\n",
            "WARNING:tensorflow:Model was constructed with shape (None, 50) for input KerasTensor(type_spec=TensorSpec(shape=(None, 50), dtype=tf.float32, name='embedding_52_input'), name='embedding_52_input', description=\"created by layer 'embedding_52_input'\"), but it was called on an input with incompatible shape (32, 200).\n",
            " 99/100 [============================>.] - ETA: 0s - loss: 0.6916 - accuracy: 0.5005WARNING:tensorflow:Model was constructed with shape (None, 50) for input KerasTensor(type_spec=TensorSpec(shape=(None, 50), dtype=tf.float32, name='embedding_52_input'), name='embedding_52_input', description=\"created by layer 'embedding_52_input'\"), but it was called on an input with incompatible shape (32, 200).\n",
            "100/100 [==============================] - 4s 36ms/step - loss: 0.6914 - accuracy: 0.5009 - val_loss: 0.6736 - val_accuracy: 0.5499\n",
            "WARNING:tensorflow:Can save best model only with val_acc available, skipping.\n",
            "Epoch 2/20\n",
            "100/100 [==============================] - 3s 35ms/step - loss: 0.6725 - accuracy: 0.5429 - val_loss: 0.6708 - val_accuracy: 0.5529\n",
            "WARNING:tensorflow:Can save best model only with val_acc available, skipping.\n",
            "Epoch 3/20\n",
            "100/100 [==============================] - 3s 34ms/step - loss: 0.6652 - accuracy: 0.5484 - val_loss: 0.6719 - val_accuracy: 0.5420\n",
            "WARNING:tensorflow:Can save best model only with val_acc available, skipping.\n",
            "Epoch 4/20\n",
            "100/100 [==============================] - 3s 34ms/step - loss: 0.6652 - accuracy: 0.5467 - val_loss: 0.6701 - val_accuracy: 0.5440\n",
            "WARNING:tensorflow:Can save best model only with val_acc available, skipping.\n",
            "Epoch 5/20\n",
            "100/100 [==============================] - 3s 34ms/step - loss: 0.6598 - accuracy: 0.5633 - val_loss: 0.6700 - val_accuracy: 0.5524\n",
            "WARNING:tensorflow:Can save best model only with val_acc available, skipping.\n",
            "Epoch 6/20\n",
            "100/100 [==============================] - 3s 34ms/step - loss: 0.6577 - accuracy: 0.5694 - val_loss: 0.6691 - val_accuracy: 0.5453\n",
            "WARNING:tensorflow:Can save best model only with val_acc available, skipping.\n",
            "Epoch 7/20\n",
            "100/100 [==============================] - 3s 34ms/step - loss: 0.6517 - accuracy: 0.5478 - val_loss: 0.6725 - val_accuracy: 0.5407\n",
            "WARNING:tensorflow:Can save best model only with val_acc available, skipping.\n",
            "Epoch 8/20\n",
            "100/100 [==============================] - 3s 35ms/step - loss: 0.6460 - accuracy: 0.5568 - val_loss: 0.6728 - val_accuracy: 0.5417\n",
            "WARNING:tensorflow:Can save best model only with val_acc available, skipping.\n",
            "Epoch 9/20\n",
            "100/100 [==============================] - 3s 34ms/step - loss: 0.6408 - accuracy: 0.5681 - val_loss: 0.6751 - val_accuracy: 0.5421\n",
            "WARNING:tensorflow:Can save best model only with val_acc available, skipping.\n",
            "Epoch 10/20\n",
            "100/100 [==============================] - 3s 34ms/step - loss: 0.6352 - accuracy: 0.5713 - val_loss: 0.6809 - val_accuracy: 0.5413\n",
            "WARNING:tensorflow:Can save best model only with val_acc available, skipping.\n",
            "Epoch 11/20\n",
            "100/100 [==============================] - 3s 34ms/step - loss: 0.6290 - accuracy: 0.5775 - val_loss: 0.6781 - val_accuracy: 0.5504\n",
            "WARNING:tensorflow:Can save best model only with val_acc available, skipping.\n",
            "Epoch 12/20\n",
            "100/100 [==============================] - 3s 34ms/step - loss: 0.6235 - accuracy: 0.5797 - val_loss: 0.6912 - val_accuracy: 0.5380\n",
            "WARNING:tensorflow:Can save best model only with val_acc available, skipping.\n",
            "Epoch 13/20\n",
            "100/100 [==============================] - 3s 34ms/step - loss: 0.6100 - accuracy: 0.5865 - val_loss: 0.6994 - val_accuracy: 0.5377\n",
            "WARNING:tensorflow:Can save best model only with val_acc available, skipping.\n",
            "Epoch 14/20\n",
            "100/100 [==============================] - 3s 34ms/step - loss: 0.6082 - accuracy: 0.5787 - val_loss: 0.6973 - val_accuracy: 0.5367\n",
            "WARNING:tensorflow:Can save best model only with val_acc available, skipping.\n",
            "Epoch 15/20\n",
            "100/100 [==============================] - 3s 34ms/step - loss: 0.6009 - accuracy: 0.6157 - val_loss: 0.7459 - val_accuracy: 0.5363\n",
            "WARNING:tensorflow:Can save best model only with val_acc available, skipping.\n",
            "Epoch 16/20\n",
            "100/100 [==============================] - 3s 34ms/step - loss: 0.5935 - accuracy: 0.5863 - val_loss: 0.7220 - val_accuracy: 0.5441\n",
            "WARNING:tensorflow:Can save best model only with val_acc available, skipping.\n",
            "Epoch 00016: early stopping\n",
            "Training time for CNN w pretrained : 55.5108859539032s\n",
            "ACC max 0.6060779094696045\n"
          ],
          "name": "stdout"
        },
        {
          "output_type": "display_data",
          "data": {
            "image/png": "[encoded data removed]",
            "text/plain": [
              "<Figure size 432x288 with 1 Axes>"
            ]
          },
          "metadata": {
            "tags": []
          }
        },
        {
          "output_type": "display_data",
          "data": {
            "image/png": "[encoded data removed]",
            "text/plain": [
              "<Figure size 432x288 with 1 Axes>"
            ]
          },
          "metadata": {
            "tags": []
          }
        }
      ]
    },
    {
      "cell_type": "code",
      "metadata": {
        "id": "6JIkMUN_2D-6"
      },
      "source": [
        "model = KerasClassifier(build_fn=build_model,epochs=4,batch_size=16)"
      ],
      "execution_count": null,
      "outputs": []
    },
    {
      "cell_type": "code",
      "metadata": {
        "colab": {
          "base_uri": "https://localhost:8080/"
        },
        "id": "2Xtdf95Z2Fn8",
        "outputId": "dfc5424c-1dce-4eb8-c61d-27b3b4783284"
      },
      "source": [
        "rscv = RandomizedSearchCV(model, param_distributions=params, cv=3,     n_iter=5)\n",
        "rscv_results = rscv.fit(X_train, y_train)"
      ],
      "execution_count": null,
      "outputs": [
        {
          "output_type": "stream",
          "text": [
            "Epoch 1/4\n",
            "84/84 [==============================] - 2s 16ms/step - loss: 0.6955 - acc: 0.5084\n",
            "Epoch 2/4\n",
            "84/84 [==============================] - 1s 15ms/step - loss: 0.6684 - acc: 0.5653\n",
            "Epoch 3/4\n",
            "84/84 [==============================] - 1s 15ms/step - loss: 0.6668 - acc: 0.5678\n",
            "Epoch 4/4\n",
            "84/84 [==============================] - 1s 15ms/step - loss: 0.6634 - acc: 0.5650\n",
            "42/42 [==============================] - 0s 7ms/step - loss: 0.6637 - acc: 0.5719\n",
            "Epoch 1/4\n",
            "84/84 [==============================] - 2s 15ms/step - loss: 0.6856 - acc: 0.5358\n",
            "Epoch 2/4\n",
            "84/84 [==============================] - 1s 15ms/step - loss: 0.6713 - acc: 0.5675\n",
            "Epoch 3/4\n",
            "84/84 [==============================] - 1s 15ms/step - loss: 0.6646 - acc: 0.5765\n",
            "Epoch 4/4\n",
            "84/84 [==============================] - 1s 15ms/step - loss: 0.6604 - acc: 0.5770\n",
            "42/42 [==============================] - 0s 6ms/step - loss: 0.6717 - acc: 0.5617\n",
            "Epoch 1/4\n",
            "84/84 [==============================] - 2s 15ms/step - loss: 0.6932 - acc: 0.5088\n",
            "Epoch 2/4\n",
            "84/84 [==============================] - 1s 15ms/step - loss: 0.6719 - acc: 0.5695\n",
            "Epoch 3/4\n",
            "84/84 [==============================] - 1s 16ms/step - loss: 0.6656 - acc: 0.5577\n",
            "Epoch 4/4\n",
            "84/84 [==============================] - 1s 15ms/step - loss: 0.6639 - acc: 0.5753\n",
            "42/42 [==============================] - 0s 6ms/step - loss: 0.6851 - acc: 0.5491\n",
            "Epoch 1/4\n",
            "84/84 [==============================] - 2s 15ms/step - loss: 0.6910 - acc: 0.5266\n",
            "Epoch 2/4\n",
            "84/84 [==============================] - 1s 15ms/step - loss: 0.6666 - acc: 0.5683\n",
            "Epoch 3/4\n",
            "84/84 [==============================] - 1s 15ms/step - loss: 0.6612 - acc: 0.5828\n",
            "Epoch 4/4\n",
            "84/84 [==============================] - 1s 15ms/step - loss: 0.6643 - acc: 0.5720\n",
            "42/42 [==============================] - 0s 6ms/step - loss: 0.6647 - acc: 0.5708\n",
            "Epoch 1/4\n",
            "84/84 [==============================] - 2s 15ms/step - loss: 0.6866 - acc: 0.5341\n",
            "Epoch 2/4\n",
            "84/84 [==============================] - 1s 15ms/step - loss: 0.6686 - acc: 0.5672\n",
            "Epoch 3/4\n",
            "84/84 [==============================] - 1s 15ms/step - loss: 0.6647 - acc: 0.5605\n",
            "Epoch 4/4\n",
            "84/84 [==============================] - 1s 15ms/step - loss: 0.6592 - acc: 0.5623\n",
            "42/42 [==============================] - 0s 6ms/step - loss: 0.6634 - acc: 0.5724\n",
            "Epoch 1/4\n",
            "84/84 [==============================] - 2s 15ms/step - loss: 0.6909 - acc: 0.5076\n",
            "Epoch 2/4\n",
            "84/84 [==============================] - 1s 15ms/step - loss: 0.6692 - acc: 0.5705\n",
            "Epoch 3/4\n",
            "84/84 [==============================] - 1s 15ms/step - loss: 0.6624 - acc: 0.5669\n",
            "Epoch 4/4\n",
            "84/84 [==============================] - 1s 15ms/step - loss: 0.6645 - acc: 0.5687\n",
            "42/42 [==============================] - 0s 6ms/step - loss: 0.6668 - acc: 0.5668\n",
            "Epoch 1/4\n",
            "21/21 [==============================] - 2s 48ms/step - loss: 0.6904 - acc: 0.5204\n",
            "Epoch 2/4\n",
            "21/21 [==============================] - 1s 48ms/step - loss: 0.6731 - acc: 0.5549\n",
            "Epoch 3/4\n",
            "21/21 [==============================] - 1s 48ms/step - loss: 0.6678 - acc: 0.5739\n",
            "Epoch 4/4\n",
            "21/21 [==============================] - 1s 48ms/step - loss: 0.6653 - acc: 0.5663\n",
            "11/11 [==============================] - 0s 18ms/step - loss: 0.6666 - acc: 0.5704\n",
            "Epoch 1/4\n",
            "21/21 [==============================] - 2s 47ms/step - loss: 0.6968 - acc: 0.4973\n",
            "Epoch 2/4\n",
            "21/21 [==============================] - 1s 50ms/step - loss: 0.6784 - acc: 0.5507\n",
            "Epoch 3/4\n",
            "21/21 [==============================] - 1s 49ms/step - loss: 0.6683 - acc: 0.5709\n",
            "Epoch 4/4\n",
            "21/21 [==============================] - 1s 47ms/step - loss: 0.6719 - acc: 0.5663\n",
            "11/11 [==============================] - 0s 19ms/step - loss: 0.6671 - acc: 0.5698\n",
            "Epoch 1/4\n",
            "21/21 [==============================] - 2s 48ms/step - loss: 0.6988 - acc: 0.4950\n",
            "Epoch 2/4\n",
            "21/21 [==============================] - 1s 47ms/step - loss: 0.6801 - acc: 0.5546\n",
            "Epoch 3/4\n",
            "21/21 [==============================] - 1s 47ms/step - loss: 0.6718 - acc: 0.5671\n",
            "Epoch 4/4\n",
            "21/21 [==============================] - 1s 47ms/step - loss: 0.6668 - acc: 0.5728\n",
            "11/11 [==============================] - 0s 19ms/step - loss: 0.6662 - acc: 0.5680\n",
            "Epoch 1/4\n",
            "167/167 [==============================] - 2s 10ms/step - loss: 0.6872 - acc: 0.5461\n",
            "Epoch 2/4\n",
            "167/167 [==============================] - 2s 10ms/step - loss: 0.6686 - acc: 0.5824\n",
            "Epoch 3/4\n",
            "167/167 [==============================] - 2s 9ms/step - loss: 0.6662 - acc: 0.5608\n",
            "Epoch 4/4\n",
            "167/167 [==============================] - 2s 10ms/step - loss: 0.6617 - acc: 0.5744\n",
            "84/84 [==============================] - 1s 4ms/step - loss: 0.6635 - acc: 0.5716\n",
            "Epoch 1/4\n",
            "167/167 [==============================] - 2s 10ms/step - loss: 0.6929 - acc: 0.5217\n",
            "Epoch 2/4\n",
            "167/167 [==============================] - 2s 10ms/step - loss: 0.6706 - acc: 0.5570\n",
            "Epoch 3/4\n",
            "167/167 [==============================] - 2s 10ms/step - loss: 0.6626 - acc: 0.5730\n",
            "Epoch 4/4\n",
            "167/167 [==============================] - 2s 10ms/step - loss: 0.6601 - acc: 0.5614\n",
            "84/84 [==============================] - 1s 4ms/step - loss: 0.6634 - acc: 0.5711\n",
            "Epoch 1/4\n",
            "167/167 [==============================] - 2s 10ms/step - loss: 0.6920 - acc: 0.5222\n",
            "Epoch 2/4\n",
            "167/167 [==============================] - 2s 10ms/step - loss: 0.6675 - acc: 0.5736\n",
            "Epoch 3/4\n",
            "167/167 [==============================] - 2s 10ms/step - loss: 0.6670 - acc: 0.5609\n",
            "Epoch 4/4\n",
            "167/167 [==============================] - 2s 10ms/step - loss: 0.6651 - acc: 0.5739\n",
            "84/84 [==============================] - 1s 4ms/step - loss: 0.6675 - acc: 0.5662\n",
            "Epoch 1/4\n",
            "84/84 [==============================] - 2s 15ms/step - loss: 0.6883 - acc: 0.5240\n",
            "Epoch 2/4\n",
            "84/84 [==============================] - 1s 15ms/step - loss: 0.6700 - acc: 0.5501\n",
            "Epoch 3/4\n",
            "84/84 [==============================] - 1s 15ms/step - loss: 0.6665 - acc: 0.5687\n",
            "Epoch 4/4\n",
            "84/84 [==============================] - 1s 15ms/step - loss: 0.6608 - acc: 0.5693\n",
            "42/42 [==============================] - 0s 6ms/step - loss: 0.6641 - acc: 0.5719\n",
            "Epoch 1/4\n",
            "84/84 [==============================] - 2s 15ms/step - loss: 0.6913 - acc: 0.5197\n",
            "Epoch 2/4\n",
            "84/84 [==============================] - 1s 15ms/step - loss: 0.6677 - acc: 0.5696\n",
            "Epoch 3/4\n",
            "84/84 [==============================] - 1s 15ms/step - loss: 0.6652 - acc: 0.5679\n",
            "Epoch 4/4\n",
            "84/84 [==============================] - 1s 15ms/step - loss: 0.6640 - acc: 0.5657\n",
            "42/42 [==============================] - 0s 7ms/step - loss: 0.6639 - acc: 0.5715\n",
            "Epoch 1/4\n",
            "84/84 [==============================] - 2s 16ms/step - loss: 0.6870 - acc: 0.5272\n",
            "Epoch 2/4\n",
            "84/84 [==============================] - 1s 15ms/step - loss: 0.6666 - acc: 0.5731\n",
            "Epoch 3/4\n",
            "84/84 [==============================] - 1s 15ms/step - loss: 0.6633 - acc: 0.5772\n",
            "Epoch 4/4\n",
            "84/84 [==============================] - 1s 15ms/step - loss: 0.6627 - acc: 0.5696\n",
            "42/42 [==============================] - 0s 6ms/step - loss: 0.6812 - acc: 0.5515\n",
            "Epoch 1/4\n",
            "125/125 [==============================] - 2s 15ms/step - loss: 0.6869 - acc: 0.5410\n",
            "Epoch 2/4\n",
            "125/125 [==============================] - 2s 15ms/step - loss: 0.6657 - acc: 0.5693\n",
            "Epoch 3/4\n",
            "125/125 [==============================] - 2s 15ms/step - loss: 0.6644 - acc: 0.5660\n",
            "Epoch 4/4\n",
            "125/125 [==============================] - 2s 15ms/step - loss: 0.6622 - acc: 0.5714\n"
          ],
          "name": "stdout"
        }
      ]
    },
    {
      "cell_type": "code",
      "metadata": {
        "colab": {
          "base_uri": "https://localhost:8080/"
        },
        "id": "ixdVMn962dxF",
        "outputId": "48184ad0-cb0b-4021-8999-0859f8fc28ea"
      },
      "source": [
        "print('Best score is: {} using {}'.format(rscv_results.best_score_,\n",
        "rscv_results.best_params_))"
      ],
      "execution_count": null,
      "outputs": [
        {
          "output_type": "stream",
          "text": [
            "Best score is: 0.5700048208236694 using {'var_optimizer': 'rmsprop', 'batch_size': 32}\n"
          ],
          "name": "stdout"
        }
      ]
    },
    {
      "cell_type": "markdown",
      "metadata": {
        "id": "6BhWCTxx8gLp"
      },
      "source": [
        "# **RNN w/o pretrained**"
      ]
    },
    {
      "cell_type": "code",
      "metadata": {
        "id": "ggo8WBQWYMeM"
      },
      "source": [
        "def build_rnn_model():\n",
        "    sequences = layers.Input(shape=(MAX_LENGTH,))\n",
        "    embedded = layers.Embedding(MAX_FEATURES, 100)(sequences)\n",
        "    x = layers.LSTM(100,activation='tanh', return_sequences=True)(embedded)\n",
        "    x= layers.Dense(100, activation= None)(x)\n",
        "    predictions = layers.Dense(1, None)(x)\n",
        "    model = models.Model(inputs=sequences, outputs=predictions)\n",
        "    model.compile(\n",
        "        optimizer='rmsprop',\n",
        "        loss='binary_crossentropy',\n",
        "        metrics=['accuracy']\n",
        "    )\n",
        "    return model\n",
        "    \n",
        "rnn_model = build_rnn_model()"
      ],
      "execution_count": null,
      "outputs": []
    },
    {
      "cell_type": "code",
      "metadata": {
        "colab": {
          "base_uri": "https://localhost:8080/",
          "height": 1000
        },
        "id": "XTHHWEAw4IRC",
        "outputId": "941cb887-4862-496e-eebb-e64cbdad93ab"
      },
      "source": [
        "model=Sequential()\n",
        "\n",
        "#embedding layer\n",
        "model.add(Embedding(size_of_vocabulary,100,input_length= MAX_LENGTH)) \n",
        "\n",
        "#lstm layer\n",
        "model.add(LSTM(100,return_sequences=True, activation='tanh'))\n",
        "\n",
        "model.add(GlobalMaxPooling1D())\n",
        "#Dense Layer\n",
        "model.add(Dense(100,activation=None)) \n",
        "model.add(Dense(1,activation='sigmoid')) \n",
        "\n",
        "#Add loss function, metrics, optimizer\n",
        "model.compile(optimizer='rmsprop', loss='binary_crossentropy',metrics=[\"accuracy\"]) \n",
        "\n",
        "#Adding callbacks\n",
        "es = EarlyStopping(monitor='val_loss', mode='min', verbose=1,patience=10)  \n",
        "mc=ModelCheckpoint('best_model.h5', monitor='val_acc', mode='max', save_best_only=True,verbose=1)  \n",
        "start = time.time()\n",
        "history = model.fit(train_texts, train_labels,batch_size=32,epochs=20,validation_data=(val_texts, val_labels),verbose=1,callbacks=[es,mc])\n",
        "\n",
        "stop = time.time()\n",
        "print(f\"Training time for RNN w pretrained : {stop - start}s\")\n",
        "print('ACC max',np.max(history.history['accuracy']))\n",
        "print(history.history.keys())\n",
        "# summarize history for accuracy\n",
        "plt.plot(history.history['accuracy'])\n",
        "plt.plot(history.history['val_accuracy'])\n",
        "plt.title('model accuracy')\n",
        "plt.ylabel('accuracy')\n",
        "plt.xlabel('epoch')\n",
        "plt.legend(['train', 'test'], loc='upper left')\n",
        "plt.show()\n",
        "# summarize history for loss\n",
        "plt.plot(history.history['loss'])\n",
        "plt.plot(history.history['val_loss'])\n",
        "plt.title('model loss')\n",
        "plt.ylabel('loss')\n",
        "plt.xlabel('epoch')\n",
        "plt.legend(['train', 'test'], loc='upper left')\n",
        "plt.show()"
      ],
      "execution_count": null,
      "outputs": [
        {
          "output_type": "stream",
          "text": [
            "Epoch 1/20\n",
            "100/100 [==============================] - 22s 198ms/step - loss: 0.6718 - accuracy: 0.5952 - val_loss: 0.4189 - val_accuracy: 0.8175\n",
            "WARNING:tensorflow:Can save best model only with val_acc available, skipping.\n",
            "Epoch 2/20\n",
            "100/100 [==============================] - 20s 200ms/step - loss: 0.2434 - accuracy: 0.9095 - val_loss: 0.3898 - val_accuracy: 0.8325\n",
            "WARNING:tensorflow:Can save best model only with val_acc available, skipping.\n",
            "Epoch 3/20\n",
            "100/100 [==============================] - 20s 198ms/step - loss: 0.1253 - accuracy: 0.9608 - val_loss: 0.4687 - val_accuracy: 0.8225\n",
            "WARNING:tensorflow:Can save best model only with val_acc available, skipping.\n",
            "Epoch 4/20\n",
            "100/100 [==============================] - 19s 191ms/step - loss: 0.0697 - accuracy: 0.9775 - val_loss: 0.5188 - val_accuracy: 0.8087\n",
            "WARNING:tensorflow:Can save best model only with val_acc available, skipping.\n",
            "Epoch 5/20\n",
            "100/100 [==============================] - 19s 191ms/step - loss: 0.0329 - accuracy: 0.9905 - val_loss: 0.8080 - val_accuracy: 0.8275\n",
            "WARNING:tensorflow:Can save best model only with val_acc available, skipping.\n",
            "Epoch 6/20\n",
            "100/100 [==============================] - 19s 192ms/step - loss: 0.0179 - accuracy: 0.9950 - val_loss: 0.8972 - val_accuracy: 0.8175\n",
            "WARNING:tensorflow:Can save best model only with val_acc available, skipping.\n",
            "Epoch 7/20\n",
            "100/100 [==============================] - 19s 192ms/step - loss: 0.0142 - accuracy: 0.9961 - val_loss: 1.3040 - val_accuracy: 0.8087\n",
            "WARNING:tensorflow:Can save best model only with val_acc available, skipping.\n",
            "Epoch 8/20\n",
            "100/100 [==============================] - 19s 191ms/step - loss: 0.0083 - accuracy: 0.9978 - val_loss: 2.3257 - val_accuracy: 0.8012\n",
            "WARNING:tensorflow:Can save best model only with val_acc available, skipping.\n",
            "Epoch 9/20\n",
            "100/100 [==============================] - 19s 191ms/step - loss: 0.0073 - accuracy: 0.9984 - val_loss: 1.1757 - val_accuracy: 0.7975\n",
            "WARNING:tensorflow:Can save best model only with val_acc available, skipping.\n",
            "Epoch 10/20\n",
            "100/100 [==============================] - 19s 194ms/step - loss: 0.0042 - accuracy: 0.9974 - val_loss: 1.9190 - val_accuracy: 0.8150\n",
            "WARNING:tensorflow:Can save best model only with val_acc available, skipping.\n",
            "Epoch 11/20\n",
            "100/100 [==============================] - 19s 193ms/step - loss: 0.0040 - accuracy: 0.9993 - val_loss: 2.2077 - val_accuracy: 0.7912\n",
            "WARNING:tensorflow:Can save best model only with val_acc available, skipping.\n",
            "Epoch 12/20\n",
            "100/100 [==============================] - 20s 200ms/step - loss: 0.0081 - accuracy: 0.9968 - val_loss: 1.4855 - val_accuracy: 0.7975\n",
            "WARNING:tensorflow:Can save best model only with val_acc available, skipping.\n",
            "Epoch 00012: early stopping\n",
            "Training time for RNN w pretrained : 234.88291239738464s\n",
            "ACC max 0.9993749856948853\n",
            "dict_keys(['loss', 'accuracy', 'val_loss', 'val_accuracy'])\n"
          ],
          "name": "stdout"
        },
        {
          "output_type": "display_data",
          "data": {
            "image/png": "[encoded data removed]",
            "text/plain": [
              "<Figure size 432x288 with 1 Axes>"
            ]
          },
          "metadata": {
            "tags": []
          }
        },
        {
          "output_type": "display_data",
          "data": {
            "image/png": "[encoded data removed]",
            "text/plain": [
              "<Figure size 432x288 with 1 Axes>"
            ]
          },
          "metadata": {
            "tags": []
          }
        }
      ]
    },
    {
      "cell_type": "markdown",
      "metadata": {
        "id": "R2ssWnU59eZI"
      },
      "source": [
        "# **RNN w pretrained**"
      ]
    },
    {
      "cell_type": "code",
      "metadata": {
        "colab": {
          "base_uri": "https://localhost:8080/",
          "height": 1000
        },
        "id": "cGBisM4q9nUR",
        "outputId": "57b43b20-68fa-4219-d040-3c35aa69dc95"
      },
      "source": [
        "model=Sequential()\n",
        "\n",
        "#embedding layer\n",
        "model.add(Embedding(size_of_vocabulary,100,weights=[embedding_matrix],input_length= MAX_LENGTH,trainable=False)) \n",
        "\n",
        "#lstm layer\n",
        "model.add(LSTM(100,return_sequences=True, activation='tanh'))\n",
        "\n",
        "model.add(GlobalMaxPooling1D())\n",
        "#Dense Layer\n",
        "model.add(Dense(100,activation=None)) \n",
        "model.add(Dense(1,activation='sigmoid')) \n",
        "\n",
        "#Add loss function, metrics, optimizer\n",
        "model.compile(optimizer='rmsprop', loss='binary_crossentropy',metrics=[\"accuracy\"]) \n",
        "\n",
        "#Adding callbacks\n",
        "es = EarlyStopping(monitor='val_loss', mode='min', verbose=1,patience=10)  \n",
        "mc=ModelCheckpoint('best_model.h5', monitor='val_acc', mode='max', save_best_only=True,verbose=1)  \n",
        "start = time.time()\n",
        "history = model.fit(train_texts, train_labels,batch_size=32,epochs=20,validation_data=(val_texts, val_labels),verbose=1,callbacks=[es,mc])\n",
        "\n",
        "stop = time.time()\n",
        "print(f\"Training time for RNN w pretrained : {stop - start}s\")\n",
        "print('ACC max',np.max(history.history['accuracy']))\n",
        "print(history.history.keys())\n",
        "# summarize history for accuracy\n",
        "plt.plot(history.history['accuracy'])\n",
        "plt.plot(history.history['val_accuracy'])\n",
        "plt.title('model accuracy')\n",
        "plt.ylabel('accuracy')\n",
        "plt.xlabel('epoch')\n",
        "plt.legend(['train', 'test'], loc='upper left')\n",
        "plt.show()\n",
        "# summarize history for loss\n",
        "plt.plot(history.history['loss'])\n",
        "plt.plot(history.history['val_loss'])\n",
        "plt.title('model loss')\n",
        "plt.ylabel('loss')\n",
        "plt.xlabel('epoch')\n",
        "plt.legend(['train', 'test'], loc='upper left')\n",
        "plt.show()"
      ],
      "execution_count": null,
      "outputs": [
        {
          "output_type": "stream",
          "text": [
            "Epoch 1/20\n",
            "100/100 [==============================] - 18s 159ms/step - loss: 0.6303 - accuracy: 0.6454 - val_loss: 0.4164 - val_accuracy: 0.8425\n",
            "WARNING:tensorflow:Can save best model only with val_acc available, skipping.\n",
            "Epoch 2/20\n",
            "100/100 [==============================] - 15s 152ms/step - loss: 0.4307 - accuracy: 0.8011 - val_loss: 0.4050 - val_accuracy: 0.8213\n",
            "WARNING:tensorflow:Can save best model only with val_acc available, skipping.\n",
            "Epoch 3/20\n",
            "100/100 [==============================] - 15s 147ms/step - loss: 0.3633 - accuracy: 0.8467 - val_loss: 0.3493 - val_accuracy: 0.8662\n",
            "WARNING:tensorflow:Can save best model only with val_acc available, skipping.\n",
            "Epoch 4/20\n",
            "100/100 [==============================] - 15s 146ms/step - loss: 0.3353 - accuracy: 0.8525 - val_loss: 0.3681 - val_accuracy: 0.8500\n",
            "WARNING:tensorflow:Can save best model only with val_acc available, skipping.\n",
            "Epoch 5/20\n",
            "100/100 [==============================] - 14s 144ms/step - loss: 0.2940 - accuracy: 0.8768 - val_loss: 0.3151 - val_accuracy: 0.8788\n",
            "WARNING:tensorflow:Can save best model only with val_acc available, skipping.\n",
            "Epoch 6/20\n",
            "100/100 [==============================] - 15s 146ms/step - loss: 0.2672 - accuracy: 0.8880 - val_loss: 0.3096 - val_accuracy: 0.8737\n",
            "WARNING:tensorflow:Can save best model only with val_acc available, skipping.\n",
            "Epoch 7/20\n",
            "100/100 [==============================] - 14s 139ms/step - loss: 0.2163 - accuracy: 0.9113 - val_loss: 0.3092 - val_accuracy: 0.8737\n",
            "WARNING:tensorflow:Can save best model only with val_acc available, skipping.\n",
            "Epoch 8/20\n",
            "100/100 [==============================] - 14s 137ms/step - loss: 0.1713 - accuracy: 0.9379 - val_loss: 0.3156 - val_accuracy: 0.8700\n",
            "WARNING:tensorflow:Can save best model only with val_acc available, skipping.\n",
            "Epoch 9/20\n",
            "100/100 [==============================] - 14s 135ms/step - loss: 0.1535 - accuracy: 0.9452 - val_loss: 0.3113 - val_accuracy: 0.8825\n",
            "WARNING:tensorflow:Can save best model only with val_acc available, skipping.\n",
            "Epoch 10/20\n",
            "100/100 [==============================] - 13s 135ms/step - loss: 0.1167 - accuracy: 0.9639 - val_loss: 0.4178 - val_accuracy: 0.8388\n",
            "WARNING:tensorflow:Can save best model only with val_acc available, skipping.\n",
            "Epoch 11/20\n",
            "100/100 [==============================] - 14s 135ms/step - loss: 0.0899 - accuracy: 0.9764 - val_loss: 0.3426 - val_accuracy: 0.8938\n",
            "WARNING:tensorflow:Can save best model only with val_acc available, skipping.\n",
            "Epoch 12/20\n",
            "100/100 [==============================] - 14s 136ms/step - loss: 0.0624 - accuracy: 0.9852 - val_loss: 0.4474 - val_accuracy: 0.8425\n",
            "WARNING:tensorflow:Can save best model only with val_acc available, skipping.\n",
            "Epoch 13/20\n",
            "100/100 [==============================] - 14s 135ms/step - loss: 0.0513 - accuracy: 0.9859 - val_loss: 1.1764 - val_accuracy: 0.7500\n",
            "WARNING:tensorflow:Can save best model only with val_acc available, skipping.\n",
            "Epoch 14/20\n",
            "100/100 [==============================] - 14s 137ms/step - loss: 0.0596 - accuracy: 0.9846 - val_loss: 0.5014 - val_accuracy: 0.8675\n",
            "WARNING:tensorflow:Can save best model only with val_acc available, skipping.\n",
            "Epoch 15/20\n",
            "100/100 [==============================] - 14s 139ms/step - loss: 0.0281 - accuracy: 0.9938 - val_loss: 0.4305 - val_accuracy: 0.8888\n",
            "WARNING:tensorflow:Can save best model only with val_acc available, skipping.\n",
            "Epoch 16/20\n",
            "100/100 [==============================] - 14s 139ms/step - loss: 0.0104 - accuracy: 0.9981 - val_loss: 0.4872 - val_accuracy: 0.8788\n",
            "WARNING:tensorflow:Can save best model only with val_acc available, skipping.\n",
            "Epoch 17/20\n",
            "100/100 [==============================] - 14s 138ms/step - loss: 0.0181 - accuracy: 0.9936 - val_loss: 0.5145 - val_accuracy: 0.8863\n",
            "WARNING:tensorflow:Can save best model only with val_acc available, skipping.\n",
            "Epoch 00017: early stopping\n",
            "Training time for RNN w pretrained : 241.94848370552063s\n",
            "ACC max 0.9959375262260437\n",
            "dict_keys(['loss', 'accuracy', 'val_loss', 'val_accuracy'])\n"
          ],
          "name": "stdout"
        },
        {
          "output_type": "display_data",
          "data": {
            "image/png": "[encoded data removed]",
            "text/plain": [
              "<Figure size 432x288 with 1 Axes>"
            ]
          },
          "metadata": {
            "tags": []
          }
        },
        {
          "output_type": "display_data",
          "data": {
            "image/png": "[encoded data removed]",
            "text/plain": [
              "<Figure size 432x288 with 1 Axes>"
            ]
          },
          "metadata": {
            "tags": []
          }
        }
      ]
    },
    {
      "cell_type": "code",
      "metadata": {
        "id": "dKp0SzK5O3wo"
      },
      "source": [
        ""
      ],
      "execution_count": null,
      "outputs": []
    },
    {
      "cell_type": "markdown",
      "metadata": {
        "id": "N1SHaGUvWU9h"
      },
      "source": [
        "**Test with more advance model=> accuracy more high**"
      ]
    },
    {
      "cell_type": "code",
      "metadata": {
        "colab": {
          "base_uri": "https://localhost:8080/",
          "height": 1000
        },
        "id": "FIwXILr-S_b3",
        "outputId": "dbf5064c-58ba-4a46-c099-ea5a914eb140"
      },
      "source": [
        "model=Sequential()\n",
        "\n",
        "#embedding layer\n",
        "model.add(Embedding(size_of_vocabulary,100,weights=[embedding_matrix],input_length=100,trainable=False)) \n",
        "\n",
        "#lstm layer\n",
        "model.add(LSTM(100,return_sequences=True,dropout=0.2))\n",
        "\n",
        "#Global Maxpooling\n",
        "model.add(GlobalMaxPooling1D())\n",
        "\n",
        "#Dense Layer\n",
        "model.add(Dense(100,activation='relu')) \n",
        "model.add(Dense(1,activation='sigmoid')) \n",
        "\n",
        "#Add loss function, metrics, optimizer\n",
        "model.compile(optimizer='adam', loss='binary_crossentropy',metrics=[\"accuracy\"]) \n",
        "\n",
        "#Adding callbacks\n",
        "es = EarlyStopping(monitor='val_loss', mode='min', verbose=1,patience=3)  \n",
        "mc=ModelCheckpoint('best_model.h5', monitor='val_acc', mode='max', save_best_only=True,verbose=1)  \n",
        "start = time.time()\n",
        "history = model.fit(train_texts,np.array(train_labels),batch_size=32,epochs=10,validation_data=(val_texts,np.array(val_labels)),verbose=1,callbacks=[es,mc])\n",
        "\n",
        "stop = time.time()\n",
        "print(f\"Training time for CNN w/o pretrained : {stop - start}s\")\n",
        "print(history.history.keys())\n",
        "# summarize history for accuracy\n",
        "plt.plot(history.history['accuracy'])\n",
        "plt.plot(history.history['val_accuracy'])\n",
        "plt.title('model accuracy')\n",
        "plt.ylabel('accuracy')\n",
        "plt.xlabel('epoch')\n",
        "plt.legend(['train', 'test'], loc='upper left')\n",
        "plt.show()\n",
        "# summarize history for loss\n",
        "plt.plot(history.history['loss'])\n",
        "plt.plot(history.history['val_loss'])\n",
        "plt.title('model loss')\n",
        "plt.ylabel('loss')\n",
        "plt.xlabel('epoch')\n",
        "plt.legend(['train', 'test'], loc='upper left')\n",
        "plt.show()"
      ],
      "execution_count": null,
      "outputs": [
        {
          "output_type": "stream",
          "text": [
            "Epoch 1/10\n",
            "WARNING:tensorflow:Model was constructed with shape (None, 100) for input KerasTensor(type_spec=TensorSpec(shape=(None, 100), dtype=tf.float32, name='embedding_14_input'), name='embedding_14_input', description=\"created by layer 'embedding_14_input'\"), but it was called on an input with incompatible shape (32, 200).\n",
            "WARNING:tensorflow:Model was constructed with shape (None, 100) for input KerasTensor(type_spec=TensorSpec(shape=(None, 100), dtype=tf.float32, name='embedding_14_input'), name='embedding_14_input', description=\"created by layer 'embedding_14_input'\"), but it was called on an input with incompatible shape (32, 200).\n",
            "100/100 [==============================] - ETA: 0s - loss: 0.6039 - accuracy: 0.6575WARNING:tensorflow:Model was constructed with shape (None, 100) for input KerasTensor(type_spec=TensorSpec(shape=(None, 100), dtype=tf.float32, name='embedding_14_input'), name='embedding_14_input', description=\"created by layer 'embedding_14_input'\"), but it was called on an input with incompatible shape (32, 200).\n",
            "100/100 [==============================] - 16s 142ms/step - loss: 0.6031 - accuracy: 0.6583 - val_loss: 0.4420 - val_accuracy: 0.7887\n",
            "WARNING:tensorflow:Can save best model only with val_acc available, skipping.\n",
            "Epoch 2/10\n",
            "100/100 [==============================] - 14s 137ms/step - loss: 0.4008 - accuracy: 0.8210 - val_loss: 0.3646 - val_accuracy: 0.8537\n",
            "WARNING:tensorflow:Can save best model only with val_acc available, skipping.\n",
            "Epoch 3/10\n",
            "100/100 [==============================] - 14s 138ms/step - loss: 0.3395 - accuracy: 0.8542 - val_loss: 0.3481 - val_accuracy: 0.8512\n",
            "WARNING:tensorflow:Can save best model only with val_acc available, skipping.\n",
            "Epoch 4/10\n",
            "100/100 [==============================] - 14s 138ms/step - loss: 0.3264 - accuracy: 0.8571 - val_loss: 0.3518 - val_accuracy: 0.8525\n",
            "WARNING:tensorflow:Can save best model only with val_acc available, skipping.\n",
            "Epoch 5/10\n",
            "100/100 [==============================] - 14s 138ms/step - loss: 0.3206 - accuracy: 0.8635 - val_loss: 0.3274 - val_accuracy: 0.8612\n",
            "WARNING:tensorflow:Can save best model only with val_acc available, skipping.\n",
            "Epoch 6/10\n",
            "100/100 [==============================] - 14s 138ms/step - loss: 0.2801 - accuracy: 0.8764 - val_loss: 0.4061 - val_accuracy: 0.8150\n",
            "WARNING:tensorflow:Can save best model only with val_acc available, skipping.\n",
            "Epoch 7/10\n",
            "100/100 [==============================] - 14s 138ms/step - loss: 0.2878 - accuracy: 0.8722 - val_loss: 0.3315 - val_accuracy: 0.8550\n",
            "WARNING:tensorflow:Can save best model only with val_acc available, skipping.\n",
            "Epoch 8/10\n",
            "100/100 [==============================] - 14s 139ms/step - loss: 0.2533 - accuracy: 0.8930 - val_loss: 0.3217 - val_accuracy: 0.8600\n",
            "WARNING:tensorflow:Can save best model only with val_acc available, skipping.\n",
            "Epoch 9/10\n",
            "100/100 [==============================] - 14s 139ms/step - loss: 0.2295 - accuracy: 0.9077 - val_loss: 0.3282 - val_accuracy: 0.8750\n",
            "WARNING:tensorflow:Can save best model only with val_acc available, skipping.\n",
            "Epoch 10/10\n",
            "100/100 [==============================] - 14s 139ms/step - loss: 0.2243 - accuracy: 0.9090 - val_loss: 0.3366 - val_accuracy: 0.8725\n",
            "WARNING:tensorflow:Can save best model only with val_acc available, skipping.\n",
            "Training time for CNN w/o pretrained : 140.61672973632812s\n",
            "dict_keys(['loss', 'accuracy', 'val_loss', 'val_accuracy'])\n"
          ],
          "name": "stdout"
        },
        {
          "output_type": "display_data",
          "data": {
            "image/png": "[encoded data removed]",
            "text/plain": [
              "<Figure size 432x288 with 1 Axes>"
            ]
          },
          "metadata": {
            "tags": []
          }
        },
        {
          "output_type": "display_data",
          "data": {
            "image/png": "[encoded data removed]",
            "text/plain": [
              "<Figure size 432x288 with 1 Axes>"
            ]
          },
          "metadata": {
            "tags": []
          }
        }
      ]
    }
  ]
}